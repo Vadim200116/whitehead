{
 "cells": [
  {
   "cell_type": "code",
   "execution_count": 1,
   "metadata": {},
   "outputs": [],
   "source": [
    "import sys\n",
    "\n",
    "sys.path.append('..')\n",
    "\n",
    "import os\n",
    "import pickle\n",
    "from copy import deepcopy\n",
    "from functools import partial\n",
    "from itertools import islice\n",
    "from os import environ\n",
    "from pickle import dump\n",
    "\n",
    "import matplotlib.pyplot as plt\n",
    "import wandb\n",
    "from freegroup.sampling import freegroup\n",
    "from freegroup.sampling.helper import get_rng\n",
    "from freegroup.tools import Comm, flatten, to_string\n",
    "from iteration_utilities import repeatfunc, unique_everseen\n",
    "from sklearn.model_selection import train_test_split\n",
    "from tokenizer import build_tokenizer\n",
    "from torch.utils.data import DataLoader\n",
    "from tqdm.auto import tqdm\n",
    "from utils import train_collate_fn\n",
    "\n",
    "os.environ[\"TOKENIZERS_PARALLELISM\"] = \"false\""
   ]
  },
  {
   "cell_type": "code",
   "execution_count": 2,
   "metadata": {},
   "outputs": [],
   "source": [
    "tokenizer = build_tokenizer('word-level', fdim=2, add_commutator_tokens=False,\n",
    "                            add_prompt_tokens=True, add_post_processor=True)"
   ]
  },
  {
   "cell_type": "code",
   "execution_count": 3,
   "metadata": {},
   "outputs": [],
   "source": [
    "# tokenizer.decode(tokenizer('-1 1')['input_ids'], skip_special_tokens=True) # HOWTO use tokenizer\n",
    "# to_string([1, -3, 1])"
   ]
  },
  {
   "cell_type": "code",
   "execution_count": 4,
   "metadata": {},
   "outputs": [],
   "source": [
    "root = '/main'\n",
    "samplers_path = f'{root}/draft-v2/data/CFG_samplers/toy_whitehead_n_3_L_50.pkl'\n",
    "with open(samplers_path, 'rb') as file:\n",
    "    samplers = pickle.load(file)\n",
    "R, S = samplers"
   ]
  },
  {
   "cell_type": "code",
   "execution_count": 5,
   "metadata": {},
   "outputs": [],
   "source": [
    "\"\"\"params for dataset generation\"\"\"\n",
    "\n",
    "seed = 0\n",
    "rng = get_rng(seed)\n",
    "\n",
    "# free group rank\n",
    "fdim = 2\n",
    "# words that generate normal closures : r = a^3, s=[a,b]\n",
    "r = [1, 1, 1] # group connections (can be other)\n",
    "s = [-1, -2, 1, 2] # group connections (can be other)\n",
    "\n",
    "# max length\n",
    "L = 50\n",
    "# train dataset size\n",
    "N = int(1e5)"
   ]
  },
  {
   "cell_type": "code",
   "execution_count": 6,
   "metadata": {},
   "outputs": [],
   "source": [
    "def get_whitehead_multilabel(label):\n",
    "    if label == 's':\n",
    "        return [1]\n",
    "    elif label == 'r':\n",
    "        return [0]\n",
    "    elif label == 'sr':\n",
    "        return [0, 1]\n",
    "    elif label == 'f':\n",
    "        return []\n",
    "    elif label == 'c':\n",
    "        return [0, 1, 2]"
   ]
  },
  {
   "cell_type": "code",
   "execution_count": 7,
   "metadata": {},
   "outputs": [],
   "source": [
    "def sample(n_samples=1e3, rng=rng, sampler=None, label=None):\n",
    "    \"\"\"\n",
    "    return a list of samples for certain sampler\n",
    "    \"\"\"\n",
    "    def fn():             \n",
    "        length = rng.integers(1, L + 1)\n",
    "        try:\n",
    "            word = sampler(length=length, rng=rng)\n",
    "            return {\n",
    "                \"label\": label,\n",
    "                \"multilabel\" : get_whitehead_multilabel(label),\n",
    "                \"word_str\" : to_string(word),\n",
    "                }\n",
    "        except:\n",
    "            return None\n",
    "        \n",
    "    # some itertools magic to exclude duplicates and handle exceptions of samplers\n",
    "    iterator = repeatfunc(fn) \n",
    "    iterator = filter(lambda x: x is not None, iterator)\n",
    "    iterator = unique_everseen(iterator)\n",
    "    iterator = islice(iterator, n_samples)\n",
    "\n",
    "    return list(tqdm(iterator, total=int(n_samples)))"
   ]
  },
  {
   "cell_type": "code",
   "execution_count": 8,
   "metadata": {},
   "outputs": [],
   "source": [
    "def sample_freegroup(n_samples=1e3, rng=rng, label='f'):\n",
    "    def fn():\n",
    "        length = rng.integers(1, L + 1)\n",
    "        word = freegroup(2, length, rng=rng)\n",
    "        return {\n",
    "            \"label\": label,\n",
    "            \"multilabel\" : get_whitehead_multilabel(label), #if coin else 's',\n",
    "            \"word_str\" : to_string(word),\n",
    "            }\n",
    "    iterator = repeatfunc(fn)\n",
    "    iterator = unique_everseen(iterator)\n",
    "    iterator = islice(iterator, n_samples)\n",
    "\n",
    "    return list(tqdm(iterator, total = int(n_samples)))"
   ]
  },
  {
   "cell_type": "code",
   "execution_count": 19,
   "metadata": {},
   "outputs": [],
   "source": [
    "def sample_comm(n_samples=1e3, rng=rng, samplers=None, label='c'):\n",
    "    # R, S = samplers\n",
    "    def fn():\n",
    "        words = []\n",
    "        for sampler in samplers:\n",
    "            flag = False\n",
    "            while not flag:\n",
    "                length = rng.integers(1, L // 5 + 1)\n",
    "                try:\n",
    "                    word = sampler(length=length, rng=rng)\n",
    "                    words.append(word)\n",
    "                    flag = True\n",
    "                except:\n",
    "                    pass\n",
    "\n",
    "        coin = rng.integers(low = 0, high = 2)\n",
    "        if coin:\n",
    "            result = flatten(Comm(words))\n",
    "        else:\n",
    "            result = flatten(Comm(words[::-1]))\n",
    "\n",
    "        return {\n",
    "            \"label\": label,\n",
    "            \"multilabel\" : get_whitehead_multilabel(label), #if coin else 's',\n",
    "            \"word_str\" : to_string(result),\n",
    "                    }\n",
    "\n",
    "\n",
    "    iterator = repeatfunc(fn)\n",
    "    iterator = unique_everseen(iterator)\n",
    "    iterator = islice(iterator, n_samples)\n",
    "\n",
    "    return list(tqdm(iterator, total = int(n_samples)))"
   ]
  },
  {
   "cell_type": "code",
   "execution_count": 20,
   "metadata": {},
   "outputs": [
    {
     "data": {
      "application/vnd.jupyter.widget-view+json": {
       "model_id": "1e1a0e5436a947d6985da12f34741b21",
       "version_major": 2,
       "version_minor": 0
      },
      "text/plain": [
       "  0%|          | 0/5 [00:00<?, ?it/s]"
      ]
     },
     "metadata": {},
     "output_type": "display_data"
    },
    {
     "data": {
      "application/vnd.jupyter.widget-view+json": {
       "model_id": "2dcf9853d7c94c3b9309991efce11675",
       "version_major": 2,
       "version_minor": 0
      },
      "text/plain": [
       "  0%|          | 0/5 [00:00<?, ?it/s]"
      ]
     },
     "metadata": {},
     "output_type": "display_data"
    },
    {
     "data": {
      "application/vnd.jupyter.widget-view+json": {
       "model_id": "0a6afe6397a9467599198565bf5596d7",
       "version_major": 2,
       "version_minor": 0
      },
      "text/plain": [
       "  0%|          | 0/5 [00:00<?, ?it/s]"
      ]
     },
     "metadata": {},
     "output_type": "display_data"
    },
    {
     "data": {
      "application/vnd.jupyter.widget-view+json": {
       "model_id": "327f48b67e29481c970239c876510d68",
       "version_major": 2,
       "version_minor": 0
      },
      "text/plain": [
       "  0%|          | 0/5 [00:00<?, ?it/s]"
      ]
     },
     "metadata": {},
     "output_type": "display_data"
    },
    {
     "name": "stdout",
     "output_type": "stream",
     "text": [
      "[]\n",
      "[[-1, -1, -1]]\n",
      "[[-1, -1, -1]]\n",
      "[[-1, -1, -1]]\n",
      "[]\n",
      "[]\n",
      "[]\n",
      "[[1, 1, 2, -1, -1, -1, -2, 1]]\n",
      "[]\n",
      "[[-1, -2, 1, 1, 1, 2, 1]]\n",
      "[[-1, -2, 1, 1, 1, 2, 1]]\n",
      "[[-1, -2, 1, 1, 1, 2, 1]]\n",
      "[]\n",
      "[[-1, -1, -1]]\n",
      "[[-1, -1, -1]]\n",
      "[]\n",
      "[[1, 1, 1, -2, 1, 1, 1, 2]]\n"
     ]
    }
   ],
   "source": [
    "dataset_r = sample(N // 2, sampler=R, label='r')\n",
    "dataset_s = sample(N // 2, sampler=S, label='s')\n",
    "dataset_f = sample_freegroup(N // 2)\n",
    "dataset_c = sample_comm(N // 2,  samplers=samplers)"
   ]
  },
  {
   "cell_type": "code",
   "execution_count": 21,
   "metadata": {},
   "outputs": [],
   "source": [
    "dataset = dataset_r + dataset_s + dataset_f + dataset_c"
   ]
  },
  {
   "cell_type": "code",
   "execution_count": 22,
   "metadata": {},
   "outputs": [],
   "source": [
    "train, test = train_test_split(deepcopy(dataset), test_size=0.1)"
   ]
  },
  {
   "cell_type": "code",
   "execution_count": 23,
   "metadata": {},
   "outputs": [],
   "source": [
    "\"\"\"make test samples with short length and intersection label (i)\"\"\"\n",
    "for i in range(len(test)):\n",
    "    test[i]['multilabel'] = [0, 1]\n",
    "    test[i]['word_str'] = to_string(test[i]['word_str'].split()[:5])\n",
    "    test[i]['label'] = 'i'"
   ]
  },
  {
   "cell_type": "code",
   "execution_count": 24,
   "metadata": {},
   "outputs": [
    {
     "data": {
      "image/png": "[encoded data removed]",
      "text/plain": [
       "<Figure size 640x480 with 1 Axes>"
      ]
     },
     "metadata": {},
     "output_type": "display_data"
    }
   ],
   "source": [
    "for el in [test]:\n",
    "    plt.hist(list(map(lambda x: len(x['word_str'].split()), el)))\n",
    "    plt.show()"
   ]
  },
  {
   "cell_type": "code",
   "execution_count": 25,
   "metadata": {},
   "outputs": [
    {
     "data": {
      "text/plain": [
       "{'label': 's', 'multilabel': [1], 'word_str': '1 -2 1 2 -1 -1'}"
      ]
     },
     "execution_count": 25,
     "metadata": {},
     "output_type": "execute_result"
    }
   ],
   "source": [
    "min(train, key=lambda x: len(x['word_str'].split()))"
   ]
  },
  {
   "cell_type": "code",
   "execution_count": 26,
   "metadata": {},
   "outputs": [],
   "source": [
    "df = DataLoader(train, 16, collate_fn=partial(train_collate_fn, tokenizer=tokenizer, fdim=fdim)) # What is dataloader\n",
    "# !!!ATTENTION!!! it's a coincidence that train_collate_fn with fdim=2 is suitable for whitehead problem.\n",
    "# In general this method should be adapted for certain prompt label size (now the size is [1: 1 + fdim + 1 + 1], i.e. fdim + 2 size)"
   ]
  },
  {
   "cell_type": "code",
   "execution_count": 28,
   "metadata": {},
   "outputs": [
    {
     "data": {
      "text/plain": [
       "dict_keys(['input_ids', 'attention_mask', 'labels'])"
      ]
     },
     "execution_count": 28,
     "metadata": {},
     "output_type": "execute_result"
    }
   ],
   "source": [
    "el = next(iter(df))\n",
    "el.keys()"
   ]
  },
  {
   "cell_type": "markdown",
   "metadata": {},
   "source": [
    "# LOG TO WANDB"
   ]
  },
  {
   "cell_type": "code",
   "execution_count": 262,
   "metadata": {},
   "outputs": [],
   "source": [
    "environ['WANDB_USERNAME']='pavel-tikhomirov'\n",
    "environ['WANDB_DIR']=f'/main/draft-v2/{environ[\"WANDB_USERNAME\"]}-runs/'\n",
    "environ['TOKENIZERS_PARALLELISM']='false'"
   ]
  },
  {
   "cell_type": "code",
   "execution_count": 267,
   "metadata": {},
   "outputs": [
    {
     "data": {
      "text/html": [
       "wandb version 0.17.4 is available!  To upgrade, please run:\n",
       " $ pip install wandb --upgrade"
      ],
      "text/plain": [
       "<IPython.core.display.HTML object>"
      ]
     },
     "metadata": {},
     "output_type": "display_data"
    },
    {
     "data": {
      "text/html": [
       "Tracking run with wandb version 0.16.3"
      ],
      "text/plain": [
       "<IPython.core.display.HTML object>"
      ]
     },
     "metadata": {},
     "output_type": "display_data"
    },
    {
     "data": {
      "text/html": [
       "Run data is saved locally in <code>/main/draft-v2/pavel-tikhomirov-runs/wandb/run-20240707_183046-rop8v6qy</code>"
      ],
      "text/plain": [
       "<IPython.core.display.HTML object>"
      ]
     },
     "metadata": {},
     "output_type": "display_data"
    },
    {
     "data": {
      "text/html": [
       "Syncing run <strong><a href='https://wandb.ai/ml-in-algebraic-topology/whitehead/runs/rop8v6qy' target=\"_blank\">pleasant-snowflake-160</a></strong> to <a href='https://wandb.ai/ml-in-algebraic-topology/whitehead' target=\"_blank\">Weights & Biases</a> (<a href='https://wandb.me/run' target=\"_blank\">docs</a>)<br/>"
      ],
      "text/plain": [
       "<IPython.core.display.HTML object>"
      ]
     },
     "metadata": {},
     "output_type": "display_data"
    },
    {
     "data": {
      "text/html": [
       " View project at <a href='https://wandb.ai/ml-in-algebraic-topology/whitehead' target=\"_blank\">https://wandb.ai/ml-in-algebraic-topology/whitehead</a>"
      ],
      "text/plain": [
       "<IPython.core.display.HTML object>"
      ]
     },
     "metadata": {},
     "output_type": "display_data"
    },
    {
     "data": {
      "text/html": [
       " View run at <a href='https://wandb.ai/ml-in-algebraic-topology/whitehead/runs/rop8v6qy' target=\"_blank\">https://wandb.ai/ml-in-algebraic-topology/whitehead/runs/rop8v6qy</a>"
      ],
      "text/plain": [
       "<IPython.core.display.HTML object>"
      ]
     },
     "metadata": {},
     "output_type": "display_data"
    }
   ],
   "source": [
    "run = wandb.init(entity = 'ml-in-algebraic-topology', project = 'whitehead', job_type = 'build-dataset')"
   ]
  },
  {
   "cell_type": "code",
   "execution_count": 268,
   "metadata": {},
   "outputs": [
    {
     "data": {
      "text/plain": [
       "<Artifact fdim-2-whitehead>"
      ]
     },
     "execution_count": 268,
     "metadata": {},
     "output_type": "execute_result"
    }
   ],
   "source": [
    "data = wandb.Artifact(f'fdim-{fdim}-whitehead', type='dataset', #-trivial\n",
    "                      description=f'fdim={fdim}. R and S dataset with ratio x^n, [x, y], freegroup and commutator. Train & test. Ratio 0.9. Prefix of length 5, label intersection',\n",
    "                      metadata={\n",
    "                              'fdim': fdim,\n",
    "                              'N': N * 2,\n",
    "                              'n': n,\n",
    "                              'max_length': L\n",
    "                          }\n",
    "    )\n",
    "with data.new_file('train.pkl', 'wb') as file:\n",
    "        dump(train, file)\n",
    "with data.new_file('test.pkl', 'wb') as file:\n",
    "        dump(test, file)\n",
    "run.log_artifact(data)"
   ]
  },
  {
   "cell_type": "code",
   "execution_count": 269,
   "metadata": {},
   "outputs": [
    {
     "name": "stderr",
     "output_type": "stream",
     "text": [
      "wandb: WARNING Source type is set to 'repo' but some required information is missing from the environment. A job will not be created from this run. See https://docs.wandb.ai/guides/launch/create-job\n"
     ]
    },
    {
     "data": {
      "application/vnd.jupyter.widget-view+json": {
       "model_id": "b60d3360258245028cae2060c45e5fb9",
       "version_major": 2,
       "version_minor": 0
      },
      "text/plain": [
       "VBox(children=(Label(value='3.328 MB of 18.484 MB uploaded\\r'), FloatProgress(value=0.1800481527639083, max=1.…"
      ]
     },
     "metadata": {},
     "output_type": "display_data"
    },
    {
     "data": {
      "text/html": [
       " View run <strong style=\"color:#cdcd00\">pleasant-snowflake-160</strong> at: <a href='https://wandb.ai/ml-in-algebraic-topology/whitehead/runs/rop8v6qy' target=\"_blank\">https://wandb.ai/ml-in-algebraic-topology/whitehead/runs/rop8v6qy</a><br/>Synced 5 W&B file(s), 0 media file(s), 2 artifact file(s) and 1 other file(s)"
      ],
      "text/plain": [
       "<IPython.core.display.HTML object>"
      ]
     },
     "metadata": {},
     "output_type": "display_data"
    },
    {
     "data": {
      "text/html": [
       "Find logs at: <code>/main/draft-v2/pavel-tikhomirov-runs/wandb/run-20240707_183046-rop8v6qy/logs</code>"
      ],
      "text/plain": [
       "<IPython.core.display.HTML object>"
      ]
     },
     "metadata": {},
     "output_type": "display_data"
    }
   ],
   "source": [
    "wandb.finish()"
   ]
  },
  {
   "cell_type": "markdown",
   "metadata": {},
   "source": [
    "# DOWNLOAD FROM WANDB"
   ]
  },
  {
   "cell_type": "code",
   "execution_count": 12,
   "metadata": {},
   "outputs": [],
   "source": [
    "import sys\n",
    "\n",
    "sys.path.append('..')\n",
    "import pickle\n",
    "from os import environ\n",
    "from pathlib import Path\n",
    "\n",
    "import wandb\n",
    "from lming.utils import download_artifact"
   ]
  },
  {
   "cell_type": "code",
   "execution_count": 13,
   "metadata": {},
   "outputs": [],
   "source": [
    "environ['WANDB_USERNAME']='pavel-tikhomirov'\n",
    "environ['WANDB_DIR']=f'/main/draft-v2/{environ[\"WANDB_USERNAME\"]}-runs/'\n",
    "environ['TOKENIZERS_PARALLELISM']='false'"
   ]
  },
  {
   "cell_type": "code",
   "execution_count": 14,
   "metadata": {},
   "outputs": [
    {
     "data": {
      "text/html": [
       "Finishing last run (ID:57y8b82e) before initializing another..."
      ],
      "text/plain": [
       "<IPython.core.display.HTML object>"
      ]
     },
     "metadata": {},
     "output_type": "display_data"
    },
    {
     "name": "stderr",
     "output_type": "stream",
     "text": [
      "wandb: WARNING Source type is set to 'repo' but some required information is missing from the environment. A job will not be created from this run. See https://docs.wandb.ai/guides/launch/create-job\n"
     ]
    },
    {
     "data": {
      "application/vnd.jupyter.widget-view+json": {
       "model_id": "1378e20a6dbe4f46b4abf214872fd7a7",
       "version_major": 2,
       "version_minor": 0
      },
      "text/plain": [
       "VBox(children=(Label(value='1.219 MB of 1.219 MB uploaded\\r'), FloatProgress(value=1.0, max=1.0)))"
      ]
     },
     "metadata": {},
     "output_type": "display_data"
    },
    {
     "data": {
      "text/html": [
       " View run <strong style=\"color:#cdcd00\">smart-tree-166</strong> at: <a href='https://wandb.ai/ml-in-algebraic-topology/whitehead/runs/57y8b82e' target=\"_blank\">https://wandb.ai/ml-in-algebraic-topology/whitehead/runs/57y8b82e</a><br/>Synced 6 W&B file(s), 0 media file(s), 0 artifact file(s) and 1 other file(s)"
      ],
      "text/plain": [
       "<IPython.core.display.HTML object>"
      ]
     },
     "metadata": {},
     "output_type": "display_data"
    },
    {
     "data": {
      "text/html": [
       "Find logs at: <code>/main/draft-v2/pavel-tikhomirov-runs/wandb/run-20240922_151958-57y8b82e/logs</code>"
      ],
      "text/plain": [
       "<IPython.core.display.HTML object>"
      ]
     },
     "metadata": {},
     "output_type": "display_data"
    },
    {
     "data": {
      "text/html": [
       "Successfully finished last run (ID:57y8b82e). Initializing new run:<br/>"
      ],
      "text/plain": [
       "<IPython.core.display.HTML object>"
      ]
     },
     "metadata": {},
     "output_type": "display_data"
    },
    {
     "data": {
      "application/vnd.jupyter.widget-view+json": {
       "model_id": "b0623f8385124b548e97f033488a55f6",
       "version_major": 2,
       "version_minor": 0
      },
      "text/plain": [
       "VBox(children=(Label(value='Waiting for wandb.init()...\\r'), FloatProgress(value=0.01111258581109319, max=1.0)…"
      ]
     },
     "metadata": {},
     "output_type": "display_data"
    },
    {
     "data": {
      "text/html": [
       "wandb version 0.18.1 is available!  To upgrade, please run:\n",
       " $ pip install wandb --upgrade"
      ],
      "text/plain": [
       "<IPython.core.display.HTML object>"
      ]
     },
     "metadata": {},
     "output_type": "display_data"
    },
    {
     "data": {
      "text/html": [
       "Tracking run with wandb version 0.16.3"
      ],
      "text/plain": [
       "<IPython.core.display.HTML object>"
      ]
     },
     "metadata": {},
     "output_type": "display_data"
    },
    {
     "data": {
      "text/html": [
       "Run data is saved locally in <code>/main/draft-v2/pavel-tikhomirov-runs/wandb/run-20240922_152311-wyuo1i29</code>"
      ],
      "text/plain": [
       "<IPython.core.display.HTML object>"
      ]
     },
     "metadata": {},
     "output_type": "display_data"
    },
    {
     "data": {
      "text/html": [
       "Syncing run <strong><a href='https://wandb.ai/ml-in-algebraic-topology/whitehead/runs/wyuo1i29' target=\"_blank\">warm-rain-167</a></strong> to <a href='https://wandb.ai/ml-in-algebraic-topology/whitehead' target=\"_blank\">Weights & Biases</a> (<a href='https://wandb.me/run' target=\"_blank\">docs</a>)<br/>"
      ],
      "text/plain": [
       "<IPython.core.display.HTML object>"
      ]
     },
     "metadata": {},
     "output_type": "display_data"
    },
    {
     "data": {
      "text/html": [
       " View project at <a href='https://wandb.ai/ml-in-algebraic-topology/whitehead' target=\"_blank\">https://wandb.ai/ml-in-algebraic-topology/whitehead</a>"
      ],
      "text/plain": [
       "<IPython.core.display.HTML object>"
      ]
     },
     "metadata": {},
     "output_type": "display_data"
    },
    {
     "data": {
      "text/html": [
       " View run at <a href='https://wandb.ai/ml-in-algebraic-topology/whitehead/runs/wyuo1i29' target=\"_blank\">https://wandb.ai/ml-in-algebraic-topology/whitehead/runs/wyuo1i29</a>"
      ],
      "text/plain": [
       "<IPython.core.display.HTML object>"
      ]
     },
     "metadata": {},
     "output_type": "display_data"
    },
    {
     "name": "stderr",
     "output_type": "stream",
     "text": [
      "\u001b[34m\u001b[1mwandb\u001b[0m:   2 of 2 files downloaded.  \n"
     ]
    }
   ],
   "source": [
    "run = wandb.init(entity='ml-in-algebraic-topology', project='whitehead')\n",
    "artifact_dir = download_artifact('fdim-2-whitehead:v0')"
   ]
  },
  {
   "cell_type": "code",
   "execution_count": 18,
   "metadata": {},
   "outputs": [],
   "source": [
    "with open(Path(artifact_dir) / \"test.pkl\", 'rb') as f:\n",
    "    data = pickle.load(f)"
   ]
  },
  {
   "cell_type": "code",
   "execution_count": 19,
   "metadata": {},
   "outputs": [
    {
     "data": {
      "text/plain": [
       "[{'label': 'i', 'multilabel': [0, 1], 'word_str': '1 -2 1 2 -1'},\n",
       " {'label': 'i', 'multilabel': [0, 1], 'word_str': '1 1 1 1 -2'},\n",
       " {'label': 'i', 'multilabel': [0, 1], 'word_str': '-2 1 2 -1 2'},\n",
       " {'label': 'i', 'multilabel': [0, 1], 'word_str': '2 1 1 2 -1'},\n",
       " {'label': 'i', 'multilabel': [0, 1], 'word_str': '2 1 -2 -1 2'},\n",
       " {'label': 'i', 'multilabel': [0, 1], 'word_str': '-1 2 2 1 2'},\n",
       " {'label': 'i', 'multilabel': [0, 1], 'word_str': '2 -1 -1 -1 2'},\n",
       " {'label': 'i', 'multilabel': [0, 1], 'word_str': '-1 -2 -2 -1 -1'},\n",
       " {'label': 'i', 'multilabel': [0, 1], 'word_str': '-1 -1 -1 -2 -1'},\n",
       " {'label': 'i', 'multilabel': [0, 1], 'word_str': '-1 -2 1 -2 -2'},\n",
       " {'label': 'i', 'multilabel': [0, 1], 'word_str': '2 -1 2 1 1'},\n",
       " {'label': 'i', 'multilabel': [0, 1], 'word_str': '-1 2 -1 -1 -1'},\n",
       " {'label': 'i', 'multilabel': [0, 1], 'word_str': '-1 2 1 -2 1'},\n",
       " {'label': 'i', 'multilabel': [0, 1], 'word_str': '2 -1 2 -1 2'},\n",
       " {'label': 'i', 'multilabel': [0, 1], 'word_str': '2 1 1 1 -2'},\n",
       " {'label': 'i', 'multilabel': [0, 1], 'word_str': '-1 2 -1 2 1'},\n",
       " {'label': 'i', 'multilabel': [0, 1], 'word_str': '-2 1 2 1 -2'},\n",
       " {'label': 'i', 'multilabel': [0, 1], 'word_str': '2 -1 -1 -1 -1'},\n",
       " {'label': 'i', 'multilabel': [0, 1], 'word_str': '-2 -1 -1 2 2'},\n",
       " {'label': 'i', 'multilabel': [0, 1], 'word_str': '1 1 1 2 -1'},\n",
       " {'label': 'i', 'multilabel': [0, 1], 'word_str': '-2 1 2 -1 -2'},\n",
       " {'label': 'i', 'multilabel': [0, 1], 'word_str': '1 1 -2 1 2'},\n",
       " {'label': 'i', 'multilabel': [0, 1], 'word_str': '-1 -1 -1 -1 2'},\n",
       " {'label': 'i', 'multilabel': [0, 1], 'word_str': '2 2 1 2 -1'},\n",
       " {'label': 'i', 'multilabel': [0, 1], 'word_str': '-1 -2 1 1 2'},\n",
       " {'label': 'i', 'multilabel': [0, 1], 'word_str': '-2 1 2 1 1'},\n",
       " {'label': 'i', 'multilabel': [0, 1], 'word_str': '-2 1 1 1 2'},\n",
       " {'label': 'i', 'multilabel': [0, 1], 'word_str': '-1 -1 -1 -1 -1'},\n",
       " {'label': 'i', 'multilabel': [0, 1], 'word_str': '-2 -2 -1 -1 -1'},\n",
       " {'label': 'i', 'multilabel': [0, 1], 'word_str': '2 2 1 2 -1'},\n",
       " {'label': 'i', 'multilabel': [0, 1], 'word_str': '-2 1 1 1 1'},\n",
       " {'label': 'i', 'multilabel': [0, 1], 'word_str': '2 1 2 1 -2'},\n",
       " {'label': 'i', 'multilabel': [0, 1], 'word_str': '-1 -1 2 -1 -1'},\n",
       " {'label': 'i', 'multilabel': [0, 1], 'word_str': '2 1 -2 -1 -1'},\n",
       " {'label': 'i', 'multilabel': [0, 1], 'word_str': '-1 -1 -1 -1 -2'},\n",
       " {'label': 'i', 'multilabel': [0, 1], 'word_str': '1 1 2 2 1'},\n",
       " {'label': 'i', 'multilabel': [0, 1], 'word_str': '1 1 -2 1 -2'},\n",
       " {'label': 'i', 'multilabel': [0, 1], 'word_str': '-1 2 -1 -2 1'},\n",
       " {'label': 'i', 'multilabel': [0, 1], 'word_str': '1 -2 -1 2 1'},\n",
       " {'label': 'i', 'multilabel': [0, 1], 'word_str': '-2 1 -2 -1 -2'},\n",
       " {'label': 'i', 'multilabel': [0, 1], 'word_str': '1 -2 1 1 1'},\n",
       " {'label': 'i', 'multilabel': [0, 1], 'word_str': '-2 1 2 1 -2'},\n",
       " {'label': 'i', 'multilabel': [0, 1], 'word_str': '-1 -1 -1 -1 -1'},\n",
       " {'label': 'i', 'multilabel': [0, 1], 'word_str': '1 2 -1 2 1'},\n",
       " {'label': 'i', 'multilabel': [0, 1], 'word_str': '1 2 -1 2 1'},\n",
       " {'label': 'i', 'multilabel': [0, 1], 'word_str': '1 2 2 2 -1'},\n",
       " {'label': 'i', 'multilabel': [0, 1], 'word_str': '2 -1 -2 1 -2'},\n",
       " {'label': 'i', 'multilabel': [0, 1], 'word_str': '1 2 -1 -2 1'},\n",
       " {'label': 'i', 'multilabel': [0, 1], 'word_str': '-2 -1 2 2 -1'},\n",
       " {'label': 'i', 'multilabel': [0, 1], 'word_str': '-1 2 1 1 2'},\n",
       " {'label': 'i', 'multilabel': [0, 1], 'word_str': '-1 2 1 -2 1'},\n",
       " {'label': 'i', 'multilabel': [0, 1], 'word_str': '2 1 -2 -1 2'},\n",
       " {'label': 'i', 'multilabel': [0, 1], 'word_str': '-1 2 1 -2 1'},\n",
       " {'label': 'i', 'multilabel': [0, 1], 'word_str': '-1 2 2 2 -1'},\n",
       " {'label': 'i', 'multilabel': [0, 1], 'word_str': '-2 -1 2 -1 -1'},\n",
       " {'label': 'i', 'multilabel': [0, 1], 'word_str': '2 2 2 -1 -1'},\n",
       " {'label': 'i', 'multilabel': [0, 1], 'word_str': '1 -2 -1 -2 -2'},\n",
       " {'label': 'i', 'multilabel': [0, 1], 'word_str': '2 2 1 1 2'},\n",
       " {'label': 'i', 'multilabel': [0, 1], 'word_str': '1 1 1 -1 -2'},\n",
       " {'label': 'i', 'multilabel': [0, 1], 'word_str': '1 -2 -2 -1 -1'},\n",
       " {'label': 'i', 'multilabel': [0, 1], 'word_str': '-2 1 1 1 1'},\n",
       " {'label': 'i', 'multilabel': [0, 1], 'word_str': '1 1 1 1 -2'},\n",
       " {'label': 'i', 'multilabel': [0, 1], 'word_str': '1 2 -1 -2 -1'},\n",
       " {'label': 'i', 'multilabel': [0, 1], 'word_str': '2 1 1 1 -2'},\n",
       " {'label': 'i', 'multilabel': [0, 1], 'word_str': '-2 -1 2 1 1'},\n",
       " {'label': 'i', 'multilabel': [0, 1], 'word_str': '-1 -1 -1 2 2'},\n",
       " {'label': 'i', 'multilabel': [0, 1], 'word_str': '1 1 1 2 1'},\n",
       " {'label': 'i', 'multilabel': [0, 1], 'word_str': '-1 -2 1 -2 -1'},\n",
       " {'label': 'i', 'multilabel': [0, 1], 'word_str': '2 2 1 -2 -1'},\n",
       " {'label': 'i', 'multilabel': [0, 1], 'word_str': '2 -1 2 -1 2'},\n",
       " {'label': 'i', 'multilabel': [0, 1], 'word_str': '1 -2 -1 2 1'},\n",
       " {'label': 'i', 'multilabel': [0, 1], 'word_str': '-1 -2 1 2 2'},\n",
       " {'label': 'i', 'multilabel': [0, 1], 'word_str': '2 -1 -2 -2 1'},\n",
       " {'label': 'i', 'multilabel': [0, 1], 'word_str': '2 -1 -1 -1 -2'},\n",
       " {'label': 'i', 'multilabel': [0, 1], 'word_str': '-2 -2 -2 1 1'},\n",
       " {'label': 'i', 'multilabel': [0, 1], 'word_str': '-2 1 1 -2 -2'},\n",
       " {'label': 'i', 'multilabel': [0, 1], 'word_str': '-2 -1 2 -1 -2'},\n",
       " {'label': 'i', 'multilabel': [0, 1], 'word_str': '1 2 -1 -2 -2'},\n",
       " {'label': 'i', 'multilabel': [0, 1], 'word_str': '-1 -1 -2 1 -2'},\n",
       " {'label': 'i', 'multilabel': [0, 1], 'word_str': '1 2 1 1 1'},\n",
       " {'label': 'i', 'multilabel': [0, 1], 'word_str': '-1 2 1 1 1'},\n",
       " {'label': 'i', 'multilabel': [0, 1], 'word_str': '1 -2 1 1 1'},\n",
       " {'label': 'i', 'multilabel': [0, 1], 'word_str': '2 -1 2 2 1'},\n",
       " {'label': 'i', 'multilabel': [0, 1], 'word_str': '-1 -2 1 2 -1'},\n",
       " {'label': 'i', 'multilabel': [0, 1], 'word_str': '2 1 1 1 2'},\n",
       " {'label': 'i', 'multilabel': [0, 1], 'word_str': '-1 -2 1 2 1'},\n",
       " {'label': 'i', 'multilabel': [0, 1], 'word_str': '2 -1 2 -1 -2'},\n",
       " {'label': 'i', 'multilabel': [0, 1], 'word_str': '-1 -1 -1 -2 -2'},\n",
       " {'label': 'i', 'multilabel': [0, 1], 'word_str': '1 1 1 -2 1'},\n",
       " {'label': 'i', 'multilabel': [0, 1], 'word_str': '-1 2 2 2 1'},\n",
       " {'label': 'i', 'multilabel': [0, 1], 'word_str': '-2 1 -2 1 2'},\n",
       " {'label': 'i', 'multilabel': [0, 1], 'word_str': '1 -2 -1 2 -1'},\n",
       " {'label': 'i', 'multilabel': [0, 1], 'word_str': '1 2 2 1 2'},\n",
       " {'label': 'i', 'multilabel': [0, 1], 'word_str': '-2 -1 -2 -1 -1'},\n",
       " {'label': 'i', 'multilabel': [0, 1], 'word_str': '-2 -1 -1 -1 -2'},\n",
       " {'label': 'i', 'multilabel': [0, 1], 'word_str': '-1 -2 1 1 1'},\n",
       " {'label': 'i', 'multilabel': [0, 1], 'word_str': '-1 -1 -1 -1 -1'},\n",
       " {'label': 'i', 'multilabel': [0, 1], 'word_str': '-2 -2 -1 2 -1'},\n",
       " {'label': 'i', 'multilabel': [0, 1], 'word_str': '1 -2 -1 2 2'},\n",
       " {'label': 'i', 'multilabel': [0, 1], 'word_str': '-1 2 -1 2 -1'},\n",
       " {'label': 'i', 'multilabel': [0, 1], 'word_str': '-1 -1 -2 1 2'},\n",
       " {'label': 'i', 'multilabel': [0, 1], 'word_str': '-2 -2 1 1 1'},\n",
       " {'label': 'i', 'multilabel': [0, 1], 'word_str': '-1 -1 -1 -1 2'},\n",
       " {'label': 'i', 'multilabel': [0, 1], 'word_str': '1 1 1 -2 -1'},\n",
       " {'label': 'i', 'multilabel': [0, 1], 'word_str': '-1 -1 -1 -1 -1'},\n",
       " {'label': 'i', 'multilabel': [0, 1], 'word_str': '-1 -1 -1 -1 2'},\n",
       " {'label': 'i', 'multilabel': [0, 1], 'word_str': '2 2 2 -1 -1'},\n",
       " {'label': 'i', 'multilabel': [0, 1], 'word_str': '1 1 2 2 -1'},\n",
       " {'label': 'i', 'multilabel': [0, 1], 'word_str': '1 1 2 -1 -2'},\n",
       " {'label': 'i', 'multilabel': [0, 1], 'word_str': '1 2 1 1 2'},\n",
       " {'label': 'i', 'multilabel': [0, 1], 'word_str': '-2 1 2 -1 -2'},\n",
       " {'label': 'i', 'multilabel': [0, 1], 'word_str': '-1 -1 -1 -2 -1'},\n",
       " {'label': 'i', 'multilabel': [0, 1], 'word_str': '1 -2 1 1 2'},\n",
       " {'label': 'i', 'multilabel': [0, 1], 'word_str': '-1 -1 -2 1 1'},\n",
       " {'label': 'i', 'multilabel': [0, 1], 'word_str': '-1 -1 2 -1 -1'},\n",
       " {'label': 'i', 'multilabel': [0, 1], 'word_str': '1 1 2 -1 2'},\n",
       " {'label': 'i', 'multilabel': [0, 1], 'word_str': '-1 2 1 2 2'},\n",
       " {'label': 'i', 'multilabel': [0, 1], 'word_str': '2 -1 -2 -2 -1'},\n",
       " {'label': 'i', 'multilabel': [0, 1], 'word_str': '2 2 2 2 1'},\n",
       " {'label': 'i', 'multilabel': [0, 1], 'word_str': '-1 -1 -1 -2 -2'},\n",
       " {'label': 'i', 'multilabel': [0, 1], 'word_str': '-2 -1 -2 -1 2'},\n",
       " {'label': 'i', 'multilabel': [0, 1], 'word_str': '-1 -2 1 -2 -1'},\n",
       " {'label': 'i', 'multilabel': [0, 1], 'word_str': '2 1 2 -1 2'},\n",
       " {'label': 'i', 'multilabel': [0, 1], 'word_str': '-2 1 2 2 1'},\n",
       " {'label': 'i', 'multilabel': [0, 1], 'word_str': '-2 -2 -2 1 1'},\n",
       " {'label': 'i', 'multilabel': [0, 1], 'word_str': '-1 -1 -1 -2 -1'},\n",
       " {'label': 'i', 'multilabel': [0, 1], 'word_str': '2 2 -1 -2 -1'},\n",
       " {'label': 'i', 'multilabel': [0, 1], 'word_str': '1 1 -2 -1 -1'},\n",
       " {'label': 'i', 'multilabel': [0, 1], 'word_str': '1 2 2 1 2'},\n",
       " {'label': 'i', 'multilabel': [0, 1], 'word_str': '-1 -1 2 -1 -1'},\n",
       " {'label': 'i', 'multilabel': [0, 1], 'word_str': '1 1 1 2 -1'},\n",
       " {'label': 'i', 'multilabel': [0, 1], 'word_str': '2 2 2 -1 -2'},\n",
       " {'label': 'i', 'multilabel': [0, 1], 'word_str': '2 2 1 1 1'},\n",
       " {'label': 'i', 'multilabel': [0, 1], 'word_str': '2 2 2 -1 -1'},\n",
       " {'label': 'i', 'multilabel': [0, 1], 'word_str': '1 -2 -2 -1 -1'},\n",
       " {'label': 'i', 'multilabel': [0, 1], 'word_str': '-2 -1 -2 -2 1'},\n",
       " {'label': 'i', 'multilabel': [0, 1], 'word_str': '-2 -1 2 2 -1'},\n",
       " {'label': 'i', 'multilabel': [0, 1], 'word_str': '2 1 -2 -1 -1'},\n",
       " {'label': 'i', 'multilabel': [0, 1], 'word_str': '2 -1 2 1 1'},\n",
       " {'label': 'i', 'multilabel': [0, 1], 'word_str': '1 -2 1 2 -1'},\n",
       " {'label': 'i', 'multilabel': [0, 1], 'word_str': '-2 1 -2 -1 -1'},\n",
       " {'label': 'i', 'multilabel': [0, 1], 'word_str': '1 1 -2 -1 2'},\n",
       " {'label': 'i', 'multilabel': [0, 1], 'word_str': '2 -1 -1 -2 1'},\n",
       " {'label': 'i', 'multilabel': [0, 1], 'word_str': '2 2 1 1 1'},\n",
       " {'label': 'i', 'multilabel': [0, 1], 'word_str': '2 1 -2 1 2'},\n",
       " {'label': 'i', 'multilabel': [0, 1], 'word_str': '2 -1 -2 -1 -1'},\n",
       " {'label': 'i', 'multilabel': [0, 1], 'word_str': '-2 -2 -2 -2 1'},\n",
       " {'label': 'i', 'multilabel': [0, 1], 'word_str': '2 -1 -1 2 1'},\n",
       " {'label': 'i', 'multilabel': [0, 1], 'word_str': '-1 -2 1 2 2'},\n",
       " {'label': 'i', 'multilabel': [0, 1], 'word_str': '2 -1 -1 -1 -2'},\n",
       " {'label': 'i', 'multilabel': [0, 1], 'word_str': '-1 -1 -1 -2 -1'},\n",
       " {'label': 'i', 'multilabel': [0, 1], 'word_str': '2 -1 2 1 2'},\n",
       " {'label': 'i', 'multilabel': [0, 1], 'word_str': '1 2 1 2 -1'},\n",
       " {'label': 'i', 'multilabel': [0, 1], 'word_str': '2 1 1 2 2'},\n",
       " {'label': 'i', 'multilabel': [0, 1], 'word_str': '2 2 -1 -1 -1'},\n",
       " {'label': 'i', 'multilabel': [0, 1], 'word_str': '-1 -2 1 1 1'},\n",
       " {'label': 'i', 'multilabel': [0, 1], 'word_str': '-1 -1 -1 -2 -1'},\n",
       " {'label': 'i', 'multilabel': [0, 1], 'word_str': '2 2 1 1 1'},\n",
       " {'label': 'i', 'multilabel': [0, 1], 'word_str': '2 -1 -1 -1 -2'},\n",
       " {'label': 'i', 'multilabel': [0, 1], 'word_str': '-2 -2 1 -2 1'},\n",
       " {'label': 'i', 'multilabel': [0, 1], 'word_str': '-1 -1 2 2 1'},\n",
       " {'label': 'i', 'multilabel': [0, 1], 'word_str': '-2 -1 -1 -1 2'},\n",
       " {'label': 'i', 'multilabel': [0, 1], 'word_str': '-1 -2 -2 1 1'},\n",
       " {'label': 'i', 'multilabel': [0, 1], 'word_str': '2 -1 -2 1 1'},\n",
       " {'label': 'i', 'multilabel': [0, 1], 'word_str': '1 1 1 -2 1'},\n",
       " {'label': 'i', 'multilabel': [0, 1], 'word_str': '-1 -1 2 -1 2'},\n",
       " {'label': 'i', 'multilabel': [0, 1], 'word_str': '1 1 1 -2 -1'},\n",
       " {'label': 'i', 'multilabel': [0, 1], 'word_str': '1 1 -2 1 -2'},\n",
       " {'label': 'i', 'multilabel': [0, 1], 'word_str': '-2 -2 -1 -1 -1'},\n",
       " {'label': 'i', 'multilabel': [0, 1], 'word_str': '-1 -2 -1 -1 -1'},\n",
       " {'label': 'i', 'multilabel': [0, 1], 'word_str': '-1 -1 2 2 -1'},\n",
       " {'label': 'i', 'multilabel': [0, 1], 'word_str': '-2 1 -2 -1 -1'},\n",
       " {'label': 'i', 'multilabel': [0, 1], 'word_str': '2 -1 -1 -1 -2'},\n",
       " {'label': 'i', 'multilabel': [0, 1], 'word_str': '2 2 1 2 -1'},\n",
       " {'label': 'i', 'multilabel': [0, 1], 'word_str': '2 2 1 2 1'},\n",
       " {'label': 'i', 'multilabel': [0, 1], 'word_str': '-2 1 1 1 2'},\n",
       " {'label': 'i', 'multilabel': [0, 1], 'word_str': '-2 1 2 1 -2'},\n",
       " {'label': 'i', 'multilabel': [0, 1], 'word_str': '2 1 -2 -1 2'},\n",
       " {'label': 'i', 'multilabel': [0, 1], 'word_str': '-2 -2 -1 2 1'},\n",
       " {'label': 'i', 'multilabel': [0, 1], 'word_str': '-2 -2 1 2 2'},\n",
       " {'label': 'i', 'multilabel': [0, 1], 'word_str': '-1 -2 1 2 1'},\n",
       " {'label': 'i', 'multilabel': [0, 1], 'word_str': '-2 -1 -2 -2 -1'},\n",
       " {'label': 'i', 'multilabel': [0, 1], 'word_str': '2 2 2 -1 -1'},\n",
       " {'label': 'i', 'multilabel': [0, 1], 'word_str': '1 -2 -1 -1 -1'},\n",
       " {'label': 'i', 'multilabel': [0, 1], 'word_str': '1 1 -2 1 -2'},\n",
       " {'label': 'i', 'multilabel': [0, 1], 'word_str': '-2 -2 -1 -2 1'},\n",
       " {'label': 'i', 'multilabel': [0, 1], 'word_str': '1 1 1 2 -1'},\n",
       " {'label': 'i', 'multilabel': [0, 1], 'word_str': '2 -1 -1 -1 -2'},\n",
       " {'label': 'i', 'multilabel': [0, 1], 'word_str': '2 2 -1 -1 -2'},\n",
       " {'label': 'i', 'multilabel': [0, 1], 'word_str': '-1 -2 1 -2 1'},\n",
       " {'label': 'i', 'multilabel': [0, 1], 'word_str': '-2 -1 2 -1 2'},\n",
       " {'label': 'i', 'multilabel': [0, 1], 'word_str': '2 2 1 1 1'},\n",
       " {'label': 'i', 'multilabel': [0, 1], 'word_str': '1 2 -1 -1 -1'},\n",
       " {'label': 'i', 'multilabel': [0, 1], 'word_str': '-1 -2 -2 -2 -1'},\n",
       " {'label': 'i', 'multilabel': [0, 1], 'word_str': '-1 -2 -1 -1 -1'},\n",
       " {'label': 'i', 'multilabel': [0, 1], 'word_str': '-1 -2 -2 1 -2'},\n",
       " {'label': 'i', 'multilabel': [0, 1], 'word_str': '-2 1 2 2 2'},\n",
       " {'label': 'i', 'multilabel': [0, 1], 'word_str': '-2 -2 -1 -2 1'},\n",
       " {'label': 'i', 'multilabel': [0, 1], 'word_str': '-1 -1 -2 -1 -1'},\n",
       " {'label': 'i', 'multilabel': [0, 1], 'word_str': '-2 -1 -1 -1 -1'},\n",
       " {'label': 'i', 'multilabel': [0, 1], 'word_str': '-1 -1 -2 1 -2'},\n",
       " {'label': 'i', 'multilabel': [0, 1], 'word_str': '1 2 -1 -2 -2'},\n",
       " {'label': 'i', 'multilabel': [0, 1], 'word_str': '-2 -2 1 2 -1'},\n",
       " {'label': 'i', 'multilabel': [0, 1], 'word_str': '-2 1 2 -1 -2'},\n",
       " {'label': 'i', 'multilabel': [0, 1], 'word_str': '2 -1 2 -1 -2'},\n",
       " {'label': 'i', 'multilabel': [0, 1], 'word_str': '-2 1 2 1 2'},\n",
       " {'label': 'i', 'multilabel': [0, 1], 'word_str': '-2 -1 -1 -1 2'},\n",
       " {'label': 'i', 'multilabel': [0, 1], 'word_str': '-1 2 1 1 1'},\n",
       " {'label': 'i', 'multilabel': [0, 1], 'word_str': '-2 -1 -1 -1 -1'},\n",
       " {'label': 'i', 'multilabel': [0, 1], 'word_str': '-1 -2 1 2 2'},\n",
       " {'label': 'i', 'multilabel': [0, 1], 'word_str': '1 2 -1 -2 1'},\n",
       " {'label': 'i', 'multilabel': [0, 1], 'word_str': '2 -1 -1 -1 2'},\n",
       " {'label': 'i', 'multilabel': [0, 1], 'word_str': '1 -2 -2 1 2'},\n",
       " {'label': 'i', 'multilabel': [0, 1], 'word_str': '2 2 -1 -2 -1'},\n",
       " {'label': 'i', 'multilabel': [0, 1], 'word_str': '-2 -1 -2 1 2'},\n",
       " {'label': 'i', 'multilabel': [0, 1], 'word_str': '1 1 1 2 -1'},\n",
       " {'label': 'i', 'multilabel': [0, 1], 'word_str': '1 -2 -1 2 -1'},\n",
       " {'label': 'i', 'multilabel': [0, 1], 'word_str': '2 2 1 -2 -1'},\n",
       " {'label': 'i', 'multilabel': [0, 1], 'word_str': '1 1 1 1 -2'},\n",
       " {'label': 'i', 'multilabel': [0, 1], 'word_str': '2 1 2 -1 -1'},\n",
       " {'label': 'i', 'multilabel': [0, 1], 'word_str': '2 1 -2 1 2'},\n",
       " {'label': 'i', 'multilabel': [0, 1], 'word_str': '1 1 1 1 -2'},\n",
       " {'label': 'i', 'multilabel': [0, 1], 'word_str': '-1 -2 -1 2 2'},\n",
       " {'label': 'i', 'multilabel': [0, 1], 'word_str': '2 -1 -1 -2 1'},\n",
       " {'label': 'i', 'multilabel': [0, 1], 'word_str': '1 1 2 2 -1'},\n",
       " {'label': 'i', 'multilabel': [0, 1], 'word_str': '-1 -2 -2 -1 -2'},\n",
       " {'label': 'i', 'multilabel': [0, 1], 'word_str': '-2 -1 -1 -1 -1'},\n",
       " {'label': 'i', 'multilabel': [0, 1], 'word_str': '-2 1 1 2 -1'},\n",
       " {'label': 'i', 'multilabel': [0, 1], 'word_str': '-1 -2 1 1 1'},\n",
       " {'label': 'i', 'multilabel': [0, 1], 'word_str': '2 1 1 1 1'},\n",
       " {'label': 'i', 'multilabel': [0, 1], 'word_str': '-2 -2 -2 -1 2'},\n",
       " {'label': 'i', 'multilabel': [0, 1], 'word_str': '1 2 -1 2 1'},\n",
       " {'label': 'i', 'multilabel': [0, 1], 'word_str': '2 1 1 2 -1'},\n",
       " {'label': 'i', 'multilabel': [0, 1], 'word_str': '1 2 1 1 1'},\n",
       " {'label': 'i', 'multilabel': [0, 1], 'word_str': '2 -1 -2 -1 -1'},\n",
       " {'label': 'i', 'multilabel': [0, 1], 'word_str': '1 1 1 2 -1'},\n",
       " {'label': 'i', 'multilabel': [0, 1], 'word_str': '-1 -2 1 2 -1'},\n",
       " {'label': 'i', 'multilabel': [0, 1], 'word_str': '-2 1 1 1 2'},\n",
       " {'label': 'i', 'multilabel': [0, 1], 'word_str': '1 1 -2 1 2'},\n",
       " {'label': 'i', 'multilabel': [0, 1], 'word_str': '-1 2 -1 -1 -1'},\n",
       " {'label': 'i', 'multilabel': [0, 1], 'word_str': '1 1 -2 -1 2'},\n",
       " {'label': 'i', 'multilabel': [0, 1], 'word_str': '-1 -1 -1 -1 -1'},\n",
       " {'label': 'i', 'multilabel': [0, 1], 'word_str': '-2 -2 -2 1 -2'},\n",
       " {'label': 'i', 'multilabel': [0, 1], 'word_str': '-1 -1 2 -1 -1'},\n",
       " {'label': 'i', 'multilabel': [0, 1], 'word_str': '2 -1 2 -1 -2'},\n",
       " {'label': 'i', 'multilabel': [0, 1], 'word_str': '-1 -1 2 -1 -1'},\n",
       " {'label': 'i', 'multilabel': [0, 1], 'word_str': '2 2 1 1 1'},\n",
       " {'label': 'i', 'multilabel': [0, 1], 'word_str': '1 2 2 -1 -1'},\n",
       " {'label': 'i', 'multilabel': [0, 1], 'word_str': '2 1 -2 -1 -1'},\n",
       " {'label': 'i', 'multilabel': [0, 1], 'word_str': '-1 -2 -1 -1 2'},\n",
       " {'label': 'i', 'multilabel': [0, 1], 'word_str': '-1 2 -1 -2 1'},\n",
       " {'label': 'i', 'multilabel': [0, 1], 'word_str': '2 1 1 1 -2'},\n",
       " {'label': 'i', 'multilabel': [0, 1], 'word_str': '-2 -2 1 1 1'},\n",
       " {'label': 'i', 'multilabel': [0, 1], 'word_str': '1 -2 -2 -1 -2'},\n",
       " {'label': 'i', 'multilabel': [0, 1], 'word_str': '2 1 2 -1 -2'},\n",
       " {'label': 'i', 'multilabel': [0, 1], 'word_str': '2 -1 -1 -1 2'},\n",
       " {'label': 'i', 'multilabel': [0, 1], 'word_str': '1 2 1 -2 1'},\n",
       " {'label': 'i', 'multilabel': [0, 1], 'word_str': '2 2 1 1 1'},\n",
       " {'label': 'i', 'multilabel': [0, 1], 'word_str': '1 2 1 -2 -2'},\n",
       " {'label': 'i', 'multilabel': [0, 1], 'word_str': '-2 -1 2 2 2'},\n",
       " {'label': 'i', 'multilabel': [0, 1], 'word_str': '2 1 -2 -2 -1'},\n",
       " {'label': 'i', 'multilabel': [0, 1], 'word_str': '1 -2 -1 2 -1'},\n",
       " {'label': 'i', 'multilabel': [0, 1], 'word_str': '2 -1 -2 1 -2'},\n",
       " {'label': 'i', 'multilabel': [0, 1], 'word_str': '2 -1 -1 -2 1'},\n",
       " {'label': 'i', 'multilabel': [0, 1], 'word_str': '1 1 2 1 1'},\n",
       " {'label': 'i', 'multilabel': [0, 1], 'word_str': '-1 -1 2 2 -1'},\n",
       " {'label': 'i', 'multilabel': [0, 1], 'word_str': '-2 -2 1 1 -2'},\n",
       " {'label': 'i', 'multilabel': [0, 1], 'word_str': '-1 2 1 2 1'},\n",
       " {'label': 'i', 'multilabel': [0, 1], 'word_str': '-2 -2 1 1 2'},\n",
       " {'label': 'i', 'multilabel': [0, 1], 'word_str': '-1 -1 -2 1 -2'},\n",
       " {'label': 'i', 'multilabel': [0, 1], 'word_str': '-1 -1 -2 1 1'},\n",
       " {'label': 'i', 'multilabel': [0, 1], 'word_str': '-1 2 1 2 -1'},\n",
       " {'label': 'i', 'multilabel': [0, 1], 'word_str': '2 -1 2 -1 -2'},\n",
       " {'label': 'i', 'multilabel': [0, 1], 'word_str': '-1 -1 2 1 2'},\n",
       " {'label': 'i', 'multilabel': [0, 1], 'word_str': '-1 2 -1 -2 1'},\n",
       " {'label': 'i', 'multilabel': [0, 1], 'word_str': '-1 -1 2 -1 -1'},\n",
       " {'label': 'i', 'multilabel': [0, 1], 'word_str': '-2 1 1 1 2'},\n",
       " {'label': 'i', 'multilabel': [0, 1], 'word_str': '-2 -1 -1 -1 2'},\n",
       " {'label': 'i', 'multilabel': [0, 1], 'word_str': '2 -1 -2 -2 -2'},\n",
       " {'label': 'i', 'multilabel': [0, 1], 'word_str': '1 1 -2 1 2'},\n",
       " {'label': 'i', 'multilabel': [0, 1], 'word_str': '-2 1 2 -1 2'},\n",
       " {'label': 'i', 'multilabel': [0, 1], 'word_str': '2 -1 -1 -1 -2'},\n",
       " {'label': 'i', 'multilabel': [0, 1], 'word_str': '2 -1 2 1 -2'},\n",
       " {'label': 'i', 'multilabel': [0, 1], 'word_str': '-2 1 2 -1 -1'},\n",
       " {'label': 'i', 'multilabel': [0, 1], 'word_str': '-2 -2 1 1 -2'},\n",
       " {'label': 'i', 'multilabel': [0, 1], 'word_str': '-2 1 -2 -2 1'},\n",
       " {'label': 'i', 'multilabel': [0, 1], 'word_str': '2 -1 2 1 -2'},\n",
       " {'label': 'i', 'multilabel': [0, 1], 'word_str': '1 2 2 2 1'},\n",
       " {'label': 'i', 'multilabel': [0, 1], 'word_str': '-2 -2 -1 2 1'},\n",
       " {'label': 'i', 'multilabel': [0, 1], 'word_str': '-2 -1 -1 2 -1'},\n",
       " {'label': 'i', 'multilabel': [0, 1], 'word_str': '-2 -1 -1 2 2'},\n",
       " {'label': 'i', 'multilabel': [0, 1], 'word_str': '2 1 -2 1 1'},\n",
       " {'label': 'i', 'multilabel': [0, 1], 'word_str': '-1 -1 -1 -1 -2'},\n",
       " {'label': 'i', 'multilabel': [0, 1], 'word_str': '-2 -2 1 1 2'},\n",
       " {'label': 'i', 'multilabel': [0, 1], 'word_str': '-2 -1 -1 -2 1'},\n",
       " {'label': 'i', 'multilabel': [0, 1], 'word_str': '2 1 1 1 -2'},\n",
       " {'label': 'i', 'multilabel': [0, 1], 'word_str': '-2 -1 -1 -1 -2'},\n",
       " {'label': 'i', 'multilabel': [0, 1], 'word_str': '2 1 2 1 2'},\n",
       " {'label': 'i', 'multilabel': [0, 1], 'word_str': '1 1 2 -1 -1'},\n",
       " {'label': 'i', 'multilabel': [0, 1], 'word_str': '-1 2 1 2 -1'},\n",
       " {'label': 'i', 'multilabel': [0, 1], 'word_str': '-1 -1 -1 2 2'},\n",
       " {'label': 'i', 'multilabel': [0, 1], 'word_str': '-2 -2 1 -2 1'},\n",
       " {'label': 'i', 'multilabel': [0, 1], 'word_str': '-1 -2 1 2 -1'},\n",
       " {'label': 'i', 'multilabel': [0, 1], 'word_str': '-2 -2 1 -2 -2'},\n",
       " {'label': 'i', 'multilabel': [0, 1], 'word_str': '-2 -2 -1 -1 -1'},\n",
       " {'label': 'i', 'multilabel': [0, 1], 'word_str': '2 -1 2 -1 -2'},\n",
       " {'label': 'i', 'multilabel': [0, 1], 'word_str': '-2 -1 -1 -1 2'},\n",
       " {'label': 'i', 'multilabel': [0, 1], 'word_str': '2 2 -1 -1 2'},\n",
       " {'label': 'i', 'multilabel': [0, 1], 'word_str': '1 1 2 1 1'},\n",
       " {'label': 'i', 'multilabel': [0, 1], 'word_str': '2 -1 2 1 -2'},\n",
       " {'label': 'i', 'multilabel': [0, 1], 'word_str': '2 2 -1 -1 -1'},\n",
       " {'label': 'i', 'multilabel': [0, 1], 'word_str': '-1 2 2 1 1'},\n",
       " {'label': 'i', 'multilabel': [0, 1], 'word_str': '-2 -2 -2 -1 2'},\n",
       " {'label': 'i', 'multilabel': [0, 1], 'word_str': '-2 -2 1 2 -1'},\n",
       " {'label': 'i', 'multilabel': [0, 1], 'word_str': '-1 -2 -2 -2 -1'},\n",
       " {'label': 'i', 'multilabel': [0, 1], 'word_str': '-2 -1 2 2 1'},\n",
       " {'label': 'i', 'multilabel': [0, 1], 'word_str': '1 2 -1 -2 -1'},\n",
       " {'label': 'i', 'multilabel': [0, 1], 'word_str': '-2 -2 -2 -1 -1'},\n",
       " {'label': 'i', 'multilabel': [0, 1], 'word_str': '2 2 1 -2 -2'},\n",
       " {'label': 'i', 'multilabel': [0, 1], 'word_str': '-1 -1 -2 1 2'},\n",
       " {'label': 'i', 'multilabel': [0, 1], 'word_str': '1 2 2 2 -1'},\n",
       " {'label': 'i', 'multilabel': [0, 1], 'word_str': '-1 2 1 1 1'},\n",
       " {'label': 'i', 'multilabel': [0, 1], 'word_str': '2 -1 -2 -2 -1'},\n",
       " {'label': 'i', 'multilabel': [0, 1], 'word_str': '-2 -1 2 -1 2'},\n",
       " {'label': 'i', 'multilabel': [0, 1], 'word_str': '-1 2 1 1 1'},\n",
       " {'label': 'i', 'multilabel': [0, 1], 'word_str': '2 -1 -2 -1 2'},\n",
       " {'label': 'i', 'multilabel': [0, 1], 'word_str': '1 -2 1 2 -1'},\n",
       " {'label': 'i', 'multilabel': [0, 1], 'word_str': '-2 1 1 2 -1'},\n",
       " {'label': 'i', 'multilabel': [0, 1], 'word_str': '2 1 -2 -1 -2'},\n",
       " {'label': 'i', 'multilabel': [0, 1], 'word_str': '2 2 -1 -1 -1'},\n",
       " {'label': 'i', 'multilabel': [0, 1], 'word_str': '1 1 1 1 2'},\n",
       " {'label': 'i', 'multilabel': [0, 1], 'word_str': '-2 1 -2 -2 1'},\n",
       " {'label': 'i', 'multilabel': [0, 1], 'word_str': '2 2 -1 -1 -1'},\n",
       " {'label': 'i', 'multilabel': [0, 1], 'word_str': '-2 1 1 1 2'},\n",
       " {'label': 'i', 'multilabel': [0, 1], 'word_str': '1 1 2 1 1'},\n",
       " {'label': 'i', 'multilabel': [0, 1], 'word_str': '1 -2 -2 -1 2'},\n",
       " {'label': 'i', 'multilabel': [0, 1], 'word_str': '-2 1 1 1 2'},\n",
       " {'label': 'i', 'multilabel': [0, 1], 'word_str': '-1 -2 -1 2 -1'},\n",
       " {'label': 'i', 'multilabel': [0, 1], 'word_str': '2 -1 -2 -2 -1'},\n",
       " {'label': 'i', 'multilabel': [0, 1], 'word_str': '-1 2 -1 -2 1'},\n",
       " {'label': 'i', 'multilabel': [0, 1], 'word_str': '2 -1 -1 -1 -1'},\n",
       " {'label': 'i', 'multilabel': [0, 1], 'word_str': '1 1 -2 -1 2'},\n",
       " {'label': 'i', 'multilabel': [0, 1], 'word_str': '1 -2 -1 -1 -1'},\n",
       " {'label': 'i', 'multilabel': [0, 1], 'word_str': '2 -1 2 1 2'},\n",
       " {'label': 'i', 'multilabel': [0, 1], 'word_str': '-1 -2 1 -2 -1'},\n",
       " {'label': 'i', 'multilabel': [0, 1], 'word_str': '-2 -2 -2 1 -2'},\n",
       " {'label': 'i', 'multilabel': [0, 1], 'word_str': '-2 -1 -1 2 1'},\n",
       " {'label': 'i', 'multilabel': [0, 1], 'word_str': '-1 2 1 -2 -2'},\n",
       " {'label': 'i', 'multilabel': [0, 1], 'word_str': '2 1 2 -1 2'},\n",
       " {'label': 'i', 'multilabel': [0, 1], 'word_str': '-2 1 2 1 2'},\n",
       " {'label': 'i', 'multilabel': [0, 1], 'word_str': '-2 -2 -2 -2 1'},\n",
       " {'label': 'i', 'multilabel': [0, 1], 'word_str': '1 2 1 -2 -2'},\n",
       " {'label': 'i', 'multilabel': [0, 1], 'word_str': '-1 2 2 -1 -2'},\n",
       " {'label': 'i', 'multilabel': [0, 1], 'word_str': '-2 -2 -1 -2 -1'},\n",
       " {'label': 'i', 'multilabel': [0, 1], 'word_str': '2 1 1 1 1'},\n",
       " {'label': 'i', 'multilabel': [0, 1], 'word_str': '-1 2 -1 -2 1'},\n",
       " {'label': 'i', 'multilabel': [0, 1], 'word_str': '-2 -2 1 -2 -2'},\n",
       " {'label': 'i', 'multilabel': [0, 1], 'word_str': '-2 -2 1 -2 1'},\n",
       " {'label': 'i', 'multilabel': [0, 1], 'word_str': '-1 -1 2 1 2'},\n",
       " {'label': 'i', 'multilabel': [0, 1], 'word_str': '2 -1 -1 2 1'},\n",
       " {'label': 'i', 'multilabel': [0, 1], 'word_str': '-1 2 2 1 -2'},\n",
       " {'label': 'i', 'multilabel': [0, 1], 'word_str': '-2 1 1 1 1'},\n",
       " {'label': 'i', 'multilabel': [0, 1], 'word_str': '-1 -1 -2 -1 -1'},\n",
       " {'label': 'i', 'multilabel': [0, 1], 'word_str': '1 -2 -1 2 1'},\n",
       " {'label': 'i', 'multilabel': [0, 1], 'word_str': '-1 2 1 2 -1'},\n",
       " {'label': 'i', 'multilabel': [0, 1], 'word_str': '1 1 1 1 1'},\n",
       " {'label': 'i', 'multilabel': [0, 1], 'word_str': '1 2 1 -2 -1'},\n",
       " {'label': 'i', 'multilabel': [0, 1], 'word_str': '1 -2 -1 2 -1'},\n",
       " {'label': 'i', 'multilabel': [0, 1], 'word_str': '-2 1 1 1 2'},\n",
       " {'label': 'i', 'multilabel': [0, 1], 'word_str': '2 1 -2 1 2'},\n",
       " {'label': 'i', 'multilabel': [0, 1], 'word_str': '-1 -1 2 2 1'},\n",
       " {'label': 'i', 'multilabel': [0, 1], 'word_str': '2 1 2 -1 -1'},\n",
       " {'label': 'i', 'multilabel': [0, 1], 'word_str': '2 -1 -2 1 1'},\n",
       " {'label': 'i', 'multilabel': [0, 1], 'word_str': '-2 -2 1 -2 -2'},\n",
       " {'label': 'i', 'multilabel': [0, 1], 'word_str': '2 1 -2 -1 -2'},\n",
       " {'label': 'i', 'multilabel': [0, 1], 'word_str': '2 1 -2 -2 1'},\n",
       " {'label': 'i', 'multilabel': [0, 1], 'word_str': '-1 -2 1 2 1'},\n",
       " {'label': 'i', 'multilabel': [0, 1], 'word_str': '1 1 1 -2 -1'},\n",
       " {'label': 'i', 'multilabel': [0, 1], 'word_str': '2 1 1 -2 1'},\n",
       " {'label': 'i', 'multilabel': [0, 1], 'word_str': '-2 -1 -1 -1 2'},\n",
       " {'label': 'i', 'multilabel': [0, 1], 'word_str': '1 1 1 2 2'},\n",
       " {'label': 'i', 'multilabel': [0, 1], 'word_str': '-2 1 2 -1 -1'},\n",
       " {'label': 'i', 'multilabel': [0, 1], 'word_str': '1 2 2 2 1'},\n",
       " {'label': 'i', 'multilabel': [0, 1], 'word_str': '2 -1 -1 -1 -2'},\n",
       " {'label': 'i', 'multilabel': [0, 1], 'word_str': '-2 -1 2 1 2'},\n",
       " {'label': 'i', 'multilabel': [0, 1], 'word_str': '-1 2 1 1 1'},\n",
       " {'label': 'i', 'multilabel': [0, 1], 'word_str': '-1 2 1 1 1'},\n",
       " {'label': 'i', 'multilabel': [0, 1], 'word_str': '2 -1 2 -1 -1'},\n",
       " {'label': 'i', 'multilabel': [0, 1], 'word_str': '2 2 1 -2 1'},\n",
       " {'label': 'i', 'multilabel': [0, 1], 'word_str': '2 2 2 1 2'},\n",
       " {'label': 'i', 'multilabel': [0, 1], 'word_str': '-1 -2 -1 -2 -1'},\n",
       " {'label': 'i', 'multilabel': [0, 1], 'word_str': '-1 -1 -1 -1 -1'},\n",
       " {'label': 'i', 'multilabel': [0, 1], 'word_str': '1 2 -1 2 1'},\n",
       " {'label': 'i', 'multilabel': [0, 1], 'word_str': '1 -2 -1 2 -1'},\n",
       " {'label': 'i', 'multilabel': [0, 1], 'word_str': '1 2 -1 -1 -1'},\n",
       " {'label': 'i', 'multilabel': [0, 1], 'word_str': '2 1 2 -1 -2'},\n",
       " {'label': 'i', 'multilabel': [0, 1], 'word_str': '-2 -1 -2 1 1'},\n",
       " {'label': 'i', 'multilabel': [0, 1], 'word_str': '-1 -2 1 2 1'},\n",
       " {'label': 'i', 'multilabel': [0, 1], 'word_str': '2 1 2 -1 -1'},\n",
       " {'label': 'i', 'multilabel': [0, 1], 'word_str': '2 1 -2 1 1'},\n",
       " {'label': 'i', 'multilabel': [0, 1], 'word_str': '-2 -1 2 2 -1'},\n",
       " {'label': 'i', 'multilabel': [0, 1], 'word_str': '1 2 1 1 2'},\n",
       " {'label': 'i', 'multilabel': [0, 1], 'word_str': '-1 -2 1 2 1'},\n",
       " {'label': 'i', 'multilabel': [0, 1], 'word_str': '1 1 2 -1 -2'},\n",
       " {'label': 'i', 'multilabel': [0, 1], 'word_str': '1 2 1 2 2'},\n",
       " {'label': 'i', 'multilabel': [0, 1], 'word_str': '-1 -1 -2 1 -2'},\n",
       " {'label': 'i', 'multilabel': [0, 1], 'word_str': '2 -1 -1 -1 2'},\n",
       " {'label': 'i', 'multilabel': [0, 1], 'word_str': '-1 2 2 1 -2'},\n",
       " {'label': 'i', 'multilabel': [0, 1], 'word_str': '1 -2 -1 2 -1'},\n",
       " {'label': 'i', 'multilabel': [0, 1], 'word_str': '-2 -1 -1 -1 -1'},\n",
       " {'label': 'i', 'multilabel': [0, 1], 'word_str': '1 2 -1 -1 -1'},\n",
       " {'label': 'i', 'multilabel': [0, 1], 'word_str': '2 1 1 1 -2'},\n",
       " {'label': 'i', 'multilabel': [0, 1], 'word_str': '1 -2 1 2 -1'},\n",
       " {'label': 'i', 'multilabel': [0, 1], 'word_str': '1 2 1 1 1'},\n",
       " {'label': 'i', 'multilabel': [0, 1], 'word_str': '1 2 2 2 1'},\n",
       " {'label': 'i', 'multilabel': [0, 1], 'word_str': '-1 -2 -2 -1 2'},\n",
       " {'label': 'i', 'multilabel': [0, 1], 'word_str': '2 1 -2 1 1'},\n",
       " {'label': 'i', 'multilabel': [0, 1], 'word_str': '-2 -2 -1 2 2'},\n",
       " {'label': 'i', 'multilabel': [0, 1], 'word_str': '2 -1 2 1 -2'},\n",
       " {'label': 'i', 'multilabel': [0, 1], 'word_str': '2 1 2 -1 -1'},\n",
       " {'label': 'i', 'multilabel': [0, 1], 'word_str': '1 1 -2 -2 -2'},\n",
       " {'label': 'i', 'multilabel': [0, 1], 'word_str': '2 -1 2 -1 -1'},\n",
       " {'label': 'i', 'multilabel': [0, 1], 'word_str': '1 -2 -2 1 1'},\n",
       " {'label': 'i', 'multilabel': [0, 1], 'word_str': '1 1 -2 -1 -1'},\n",
       " {'label': 'i', 'multilabel': [0, 1], 'word_str': '-1 2 1 1 1'},\n",
       " {'label': 'i', 'multilabel': [0, 1], 'word_str': '-2 -1 2 1 -2'},\n",
       " {'label': 'i', 'multilabel': [0, 1], 'word_str': '-2 1 -2 -2 -2'},\n",
       " {'label': 'i', 'multilabel': [0, 1], 'word_str': '-1 2 -1 -1 -1'},\n",
       " {'label': 'i', 'multilabel': [0, 1], 'word_str': '1 2 -1 -2 1'},\n",
       " {'label': 'i', 'multilabel': [0, 1], 'word_str': '1 2 2 2 1'},\n",
       " {'label': 'i', 'multilabel': [0, 1], 'word_str': '2 2 -1 -1 -1'},\n",
       " {'label': 'i', 'multilabel': [0, 1], 'word_str': '-2 1 2 1 2'},\n",
       " {'label': 'i', 'multilabel': [0, 1], 'word_str': '-1 -2 1 2 -1'},\n",
       " {'label': 'i', 'multilabel': [0, 1], 'word_str': '-2 1 1 1 2'},\n",
       " {'label': 'i', 'multilabel': [0, 1], 'word_str': '2 1 -2 -2 1'},\n",
       " {'label': 'i', 'multilabel': [0, 1], 'word_str': '1 2 -1 -2 -2'},\n",
       " {'label': 'i', 'multilabel': [0, 1], 'word_str': '-2 -2 1 -2 -2'},\n",
       " {'label': 'i', 'multilabel': [0, 1], 'word_str': '-1 -1 -1 2 2'},\n",
       " {'label': 'i', 'multilabel': [0, 1], 'word_str': '2 1 1 2 -1'},\n",
       " {'label': 'i', 'multilabel': [0, 1], 'word_str': '-2 -1 -2 1 1'},\n",
       " {'label': 'i', 'multilabel': [0, 1], 'word_str': '1 2 1 1 1'},\n",
       " {'label': 'i', 'multilabel': [0, 1], 'word_str': '1 -2 1 -2 1'},\n",
       " {'label': 'i', 'multilabel': [0, 1], 'word_str': '-2 -2 -1 -2 1'},\n",
       " {'label': 'i', 'multilabel': [0, 1], 'word_str': '1 1 2 1 2'},\n",
       " {'label': 'i', 'multilabel': [0, 1], 'word_str': '-2 1 1 1 -2'},\n",
       " {'label': 'i', 'multilabel': [0, 1], 'word_str': '-2 -1 -1 -1 -2'},\n",
       " {'label': 'i', 'multilabel': [0, 1], 'word_str': '-1 -2 -2 -2 -1'},\n",
       " {'label': 'i', 'multilabel': [0, 1], 'word_str': '-2 -1 -1 2 -1'},\n",
       " {'label': 'i', 'multilabel': [0, 1], 'word_str': '1 -2 -1 -2 1'},\n",
       " {'label': 'i', 'multilabel': [0, 1], 'word_str': '-1 2 -1 -1 -1'},\n",
       " {'label': 'i', 'multilabel': [0, 1], 'word_str': '-2 1 1 1 1'},\n",
       " {'label': 'i', 'multilabel': [0, 1], 'word_str': '-1 -1 2 2 -1'},\n",
       " {'label': 'i', 'multilabel': [0, 1], 'word_str': '1 2 1 2 -1'},\n",
       " {'label': 'i', 'multilabel': [0, 1], 'word_str': '-1 -1 -2 1 2'},\n",
       " {'label': 'i', 'multilabel': [0, 1], 'word_str': '-1 -1 -1 2 1'},\n",
       " {'label': 'i', 'multilabel': [0, 1], 'word_str': '-1 -1 -2 1 2'},\n",
       " {'label': 'i', 'multilabel': [0, 1], 'word_str': '2 2 -1 -1 -1'},\n",
       " {'label': 'i', 'multilabel': [0, 1], 'word_str': '-2 1 1 -2 1'},\n",
       " {'label': 'i', 'multilabel': [0, 1], 'word_str': '-1 2 -1 2 1'},\n",
       " {'label': 'i', 'multilabel': [0, 1], 'word_str': '2 1 -2 1 1'},\n",
       " {'label': 'i', 'multilabel': [0, 1], 'word_str': '1 -2 -2 -1 -1'},\n",
       " {'label': 'i', 'multilabel': [0, 1], 'word_str': '1 1 1 1 -2'},\n",
       " {'label': 'i', 'multilabel': [0, 1], 'word_str': '-2 -2 1 1 1'},\n",
       " {'label': 'i', 'multilabel': [0, 1], 'word_str': '1 -2 -1 2 2'},\n",
       " {'label': 'i', 'multilabel': [0, 1], 'word_str': '1 -2 -2 -1 -2'},\n",
       " {'label': 'i', 'multilabel': [0, 1], 'word_str': '-2 1 2 -1 -2'},\n",
       " {'label': 'i', 'multilabel': [0, 1], 'word_str': '1 1 1 1 1'},\n",
       " {'label': 'i', 'multilabel': [0, 1], 'word_str': '2 -1 -2 1 -2'},\n",
       " {'label': 'i', 'multilabel': [0, 1], 'word_str': '1 2 -1 -2 1'},\n",
       " {'label': 'i', 'multilabel': [0, 1], 'word_str': '1 -2 1 -2 -2'},\n",
       " {'label': 'i', 'multilabel': [0, 1], 'word_str': '-1 -1 2 -1 -1'},\n",
       " {'label': 'i', 'multilabel': [0, 1], 'word_str': '-1 2 -1 2 1'},\n",
       " {'label': 'i', 'multilabel': [0, 1], 'word_str': '-1 2 1 1 -2'},\n",
       " {'label': 'i', 'multilabel': [0, 1], 'word_str': '-1 -2 -1 -1 -1'},\n",
       " {'label': 'i', 'multilabel': [0, 1], 'word_str': '2 1 -2 -1 2'},\n",
       " {'label': 'i', 'multilabel': [0, 1], 'word_str': '1 1 1 1 2'},\n",
       " {'label': 'i', 'multilabel': [0, 1], 'word_str': '2 2 1 1 1'},\n",
       " {'label': 'i', 'multilabel': [0, 1], 'word_str': '-2 -2 -1 2 1'},\n",
       " {'label': 'i', 'multilabel': [0, 1], 'word_str': '2 2 -1 -1 -1'},\n",
       " {'label': 'i', 'multilabel': [0, 1], 'word_str': '-1 2 1 1 2'},\n",
       " {'label': 'i', 'multilabel': [0, 1], 'word_str': '-1 2 1 -2 -2'},\n",
       " {'label': 'i', 'multilabel': [0, 1], 'word_str': '-1 2 2 -1 -2'},\n",
       " {'label': 'i', 'multilabel': [0, 1], 'word_str': '1 1 2 1 -2'},\n",
       " {'label': 'i', 'multilabel': [0, 1], 'word_str': '2 1 2 2 1'},\n",
       " {'label': 'i', 'multilabel': [0, 1], 'word_str': '-2 -1 2 2 -1'},\n",
       " {'label': 'i', 'multilabel': [0, 1], 'word_str': '1 -2 -2 1 2'},\n",
       " {'label': 'i', 'multilabel': [0, 1], 'word_str': '-1 2 1 -2 -1'},\n",
       " {'label': 'i', 'multilabel': [0, 1], 'word_str': '2 1 1 1 -2'},\n",
       " {'label': 'i', 'multilabel': [0, 1], 'word_str': '-2 1 -2 -1 2'},\n",
       " {'label': 'i', 'multilabel': [0, 1], 'word_str': '-1 -2 1 1 2'},\n",
       " {'label': 'i', 'multilabel': [0, 1], 'word_str': '1 -2 1 2 -1'},\n",
       " {'label': 'i', 'multilabel': [0, 1], 'word_str': '-2 -2 1 2 -1'},\n",
       " {'label': 'i', 'multilabel': [0, 1], 'word_str': '1 2 -1 2 2'},\n",
       " {'label': 'i', 'multilabel': [0, 1], 'word_str': '1 -2 -1 2 1'},\n",
       " {'label': 'i', 'multilabel': [0, 1], 'word_str': '1 1 1 -2 -2'},\n",
       " {'label': 'i', 'multilabel': [0, 1], 'word_str': '2 1 -2 1 1'},\n",
       " {'label': 'i', 'multilabel': [0, 1], 'word_str': '2 -1 -1 -1 -2'},\n",
       " {'label': 'i', 'multilabel': [0, 1], 'word_str': '-1 -1 2 -1 -2'},\n",
       " {'label': 'i', 'multilabel': [0, 1], 'word_str': '1 2 1 1 1'},\n",
       " {'label': 'i', 'multilabel': [0, 1], 'word_str': '-1 -2 1 1 1'},\n",
       " {'label': 'i', 'multilabel': [0, 1], 'word_str': '1 2 2 -1 2'},\n",
       " {'label': 'i', 'multilabel': [0, 1], 'word_str': '1 -2 -1 2 -1'},\n",
       " {'label': 'i', 'multilabel': [0, 1], 'word_str': '-1 2 1 1 1'},\n",
       " {'label': 'i', 'multilabel': [0, 1], 'word_str': '-2 1 1 1 1'},\n",
       " {'label': 'i', 'multilabel': [0, 1], 'word_str': '-1 2 2 1 1'},\n",
       " {'label': 'i', 'multilabel': [0, 1], 'word_str': '1 2 1 -2 -2'},\n",
       " {'label': 'i', 'multilabel': [0, 1], 'word_str': '-1 -2 -1 2 1'},\n",
       " {'label': 'i', 'multilabel': [0, 1], 'word_str': '-2 -2 -2 1 2'},\n",
       " {'label': 'i', 'multilabel': [0, 1], 'word_str': '2 -1 -2 -2 1'},\n",
       " {'label': 'i', 'multilabel': [0, 1], 'word_str': '1 1 1 1 1'},\n",
       " {'label': 'i', 'multilabel': [0, 1], 'word_str': '-1 -2 -1 -2 -2'},\n",
       " {'label': 'i', 'multilabel': [0, 1], 'word_str': '2 1 -2 -2 1'},\n",
       " {'label': 'i', 'multilabel': [0, 1], 'word_str': '1 2 -1 2 1'},\n",
       " {'label': 'i', 'multilabel': [0, 1], 'word_str': '2 1 2 -1 2'},\n",
       " {'label': 'i', 'multilabel': [0, 1], 'word_str': '-2 -1 2 1 -2'},\n",
       " {'label': 'i', 'multilabel': [0, 1], 'word_str': '-1 2 1 -2 -1'},\n",
       " {'label': 'i', 'multilabel': [0, 1], 'word_str': '1 1 1 2 1'},\n",
       " {'label': 'i', 'multilabel': [0, 1], 'word_str': '-1 -1 2 -1 -1'},\n",
       " {'label': 'i', 'multilabel': [0, 1], 'word_str': '1 2 -1 -1 -2'},\n",
       " {'label': 'i', 'multilabel': [0, 1], 'word_str': '-2 1 1 -2 -1'},\n",
       " {'label': 'i', 'multilabel': [0, 1], 'word_str': '1 2 2 -1 -2'},\n",
       " {'label': 'i', 'multilabel': [0, 1], 'word_str': '2 -1 -2 1 2'},\n",
       " {'label': 'i', 'multilabel': [0, 1], 'word_str': '-1 2 2 -1 -2'},\n",
       " {'label': 'i', 'multilabel': [0, 1], 'word_str': '2 -1 -2 1 -2'},\n",
       " {'label': 'i', 'multilabel': [0, 1], 'word_str': '-1 -1 -1 -2 1'},\n",
       " {'label': 'i', 'multilabel': [0, 1], 'word_str': '-2 1 1 -2 -1'},\n",
       " {'label': 'i', 'multilabel': [0, 1], 'word_str': '2 2 2 2 -1'},\n",
       " {'label': 'i', 'multilabel': [0, 1], 'word_str': '2 1 1 1 -2'},\n",
       " {'label': 'i', 'multilabel': [0, 1], 'word_str': '-2 1 1 1 1'},\n",
       " {'label': 'i', 'multilabel': [0, 1], 'word_str': '-1 -1 -1 -2 -1'},\n",
       " {'label': 'i', 'multilabel': [0, 1], 'word_str': '1 -2 -1 2 -1'},\n",
       " {'label': 'i', 'multilabel': [0, 1], 'word_str': '-1 -1 2 2 -1'},\n",
       " {'label': 'i', 'multilabel': [0, 1], 'word_str': '1 2 2 2 2'},\n",
       " {'label': 'i', 'multilabel': [0, 1], 'word_str': '-2 -1 -2 1 2'},\n",
       " {'label': 'i', 'multilabel': [0, 1], 'word_str': '-2 1 2 1 2'},\n",
       " {'label': 'i', 'multilabel': [0, 1], 'word_str': '-2 -2 -1 2 -1'},\n",
       " {'label': 'i', 'multilabel': [0, 1], 'word_str': '-2 -1 2 -1 -2'},\n",
       " {'label': 'i', 'multilabel': [0, 1], 'word_str': '-2 -1 -1 2 -1'},\n",
       " {'label': 'i', 'multilabel': [0, 1], 'word_str': '1 1 1 -2 -1'},\n",
       " {'label': 'i', 'multilabel': [0, 1], 'word_str': '-2 1 2 -1 -1'},\n",
       " {'label': 'i', 'multilabel': [0, 1], 'word_str': '-2 -1 2 -1 -2'},\n",
       " {'label': 'i', 'multilabel': [0, 1], 'word_str': '2 1 -2 -1 -2'},\n",
       " {'label': 'i', 'multilabel': [0, 1], 'word_str': '-2 1 1 -2 1'},\n",
       " {'label': 'i', 'multilabel': [0, 1], 'word_str': '-2 1 -2 -1 -2'},\n",
       " {'label': 'i', 'multilabel': [0, 1], 'word_str': '2 2 -1 -1 -1'},\n",
       " {'label': 'i', 'multilabel': [0, 1], 'word_str': '-1 2 2 -1 -1'},\n",
       " {'label': 'i', 'multilabel': [0, 1], 'word_str': '2 1 -2 -1 -2'},\n",
       " {'label': 'i', 'multilabel': [0, 1], 'word_str': '1 1 -2 -2 -1'},\n",
       " {'label': 'i', 'multilabel': [0, 1], 'word_str': '2 2 1 1 1'},\n",
       " {'label': 'i', 'multilabel': [0, 1], 'word_str': '-1 2 1 -2 -1'},\n",
       " {'label': 'i', 'multilabel': [0, 1], 'word_str': '-1 -1 -2 1 1'},\n",
       " {'label': 'i', 'multilabel': [0, 1], 'word_str': '-1 2 -1 -2 1'},\n",
       " {'label': 'i', 'multilabel': [0, 1], 'word_str': '2 1 1 1 1'},\n",
       " {'label': 'i', 'multilabel': [0, 1], 'word_str': '-2 1 2 2 1'},\n",
       " {'label': 'i', 'multilabel': [0, 1], 'word_str': '-1 -1 -2 -1 -2'},\n",
       " {'label': 'i', 'multilabel': [0, 1], 'word_str': '2 -1 2 -1 -1'},\n",
       " {'label': 'i', 'multilabel': [0, 1], 'word_str': '-2 -1 -1 -1 2'},\n",
       " {'label': 'i', 'multilabel': [0, 1], 'word_str': '-1 -1 -2 -1 2'},\n",
       " {'label': 'i', 'multilabel': [0, 1], 'word_str': '2 1 2 2 1'},\n",
       " {'label': 'i', 'multilabel': [0, 1], 'word_str': '1 -2 -1 -2 -1'},\n",
       " {'label': 'i', 'multilabel': [0, 1], 'word_str': '1 2 -1 -1 -1'},\n",
       " {'label': 'i', 'multilabel': [0, 1], 'word_str': '1 2 2 -1 2'},\n",
       " {'label': 'i', 'multilabel': [0, 1], 'word_str': '2 2 -1 -2 1'},\n",
       " {'label': 'i', 'multilabel': [0, 1], 'word_str': '2 2 -1 2 1'},\n",
       " {'label': 'i', 'multilabel': [0, 1], 'word_str': '-2 -1 2 1 1'},\n",
       " {'label': 'i', 'multilabel': [0, 1], 'word_str': '-1 -2 -1 -1 -1'},\n",
       " {'label': 'i', 'multilabel': [0, 1], 'word_str': '2 -1 -2 -1 -2'},\n",
       " {'label': 'i', 'multilabel': [0, 1], 'word_str': '2 1 -2 1 2'},\n",
       " {'label': 'i', 'multilabel': [0, 1], 'word_str': '-1 -1 2 2 1'},\n",
       " {'label': 'i', 'multilabel': [0, 1], 'word_str': '1 1 2 -1 -2'},\n",
       " {'label': 'i', 'multilabel': [0, 1], 'word_str': '1 2 -1 -1 2'},\n",
       " {'label': 'i', 'multilabel': [0, 1], 'word_str': '-1 2 1 1 1'},\n",
       " {'label': 'i', 'multilabel': [0, 1], 'word_str': '2 -1 -1 2 2'},\n",
       " {'label': 'i', 'multilabel': [0, 1], 'word_str': '-1 2 2 1 -2'},\n",
       " {'label': 'i', 'multilabel': [0, 1], 'word_str': '-1 -1 -2 -2 -1'},\n",
       " {'label': 'i', 'multilabel': [0, 1], 'word_str': '2 2 2 -1 -1'},\n",
       " {'label': 'i', 'multilabel': [0, 1], 'word_str': '1 2 2 1 1'},\n",
       " {'label': 'i', 'multilabel': [0, 1], 'word_str': '-1 2 1 2 1'},\n",
       " {'label': 'i', 'multilabel': [0, 1], 'word_str': '2 -1 -1 2 1'},\n",
       " {'label': 'i', 'multilabel': [0, 1], 'word_str': '1 1 -2 -1 -1'},\n",
       " {'label': 'i', 'multilabel': [0, 1], 'word_str': '1 2 -1 -2 1'},\n",
       " {'label': 'i', 'multilabel': [0, 1], 'word_str': '1 -2 1 2 2'},\n",
       " {'label': 'i', 'multilabel': [0, 1], 'word_str': '-1 -1 -2 1 1'},\n",
       " {'label': 'i', 'multilabel': [0, 1], 'word_str': '2 -1 -2 -2 -1'},\n",
       " {'label': 'i', 'multilabel': [0, 1], 'word_str': '1 1 1 -2 -2'},\n",
       " {'label': 'i', 'multilabel': [0, 1], 'word_str': '-1 -1 -1 -2 1'},\n",
       " {'label': 'i', 'multilabel': [0, 1], 'word_str': '-1 2 1 2 -1'},\n",
       " {'label': 'i', 'multilabel': [0, 1], 'word_str': '2 2 1 -2 -1'},\n",
       " {'label': 'i', 'multilabel': [0, 1], 'word_str': '1 2 -1 2 1'},\n",
       " {'label': 'i', 'multilabel': [0, 1], 'word_str': '-2 1 2 -1 -2'},\n",
       " {'label': 'i', 'multilabel': [0, 1], 'word_str': '-1 2 -1 -2 -1'},\n",
       " {'label': 'i', 'multilabel': [0, 1], 'word_str': '1 -2 -1 -1 -1'},\n",
       " {'label': 'i', 'multilabel': [0, 1], 'word_str': '2 1 2 -1 -1'},\n",
       " {'label': 'i', 'multilabel': [0, 1], 'word_str': '1 1 1 2 -1'},\n",
       " {'label': 'i', 'multilabel': [0, 1], 'word_str': '-1 2 2 -1 -1'},\n",
       " {'label': 'i', 'multilabel': [0, 1], 'word_str': '-2 1 1 2 2'},\n",
       " {'label': 'i', 'multilabel': [0, 1], 'word_str': '2 2 1 -2 1'},\n",
       " {'label': 'i', 'multilabel': [0, 1], 'word_str': '1 1 -2 -1 -1'},\n",
       " {'label': 'i', 'multilabel': [0, 1], 'word_str': '2 2 2 2 -1'},\n",
       " {'label': 'i', 'multilabel': [0, 1], 'word_str': '2 1 -2 1 2'},\n",
       " {'label': 'i', 'multilabel': [0, 1], 'word_str': '-2 -2 -1 -2 -2'},\n",
       " {'label': 'i', 'multilabel': [0, 1], 'word_str': '1 1 -2 1 1'},\n",
       " {'label': 'i', 'multilabel': [0, 1], 'word_str': '-2 1 1 -2 1'},\n",
       " {'label': 'i', 'multilabel': [0, 1], 'word_str': '-2 -1 2 1 -2'},\n",
       " {'label': 'i', 'multilabel': [0, 1], 'word_str': '2 2 -1 -1 -1'},\n",
       " {'label': 'i', 'multilabel': [0, 1], 'word_str': '2 1 -2 -1 -1'},\n",
       " {'label': 'i', 'multilabel': [0, 1], 'word_str': '1 -2 -1 -1 2'},\n",
       " {'label': 'i', 'multilabel': [0, 1], 'word_str': '-1 -2 1 -2 -2'},\n",
       " {'label': 'i', 'multilabel': [0, 1], 'word_str': '2 1 1 2 2'},\n",
       " {'label': 'i', 'multilabel': [0, 1], 'word_str': '1 1 1 -2 1'},\n",
       " {'label': 'i', 'multilabel': [0, 1], 'word_str': '1 2 -1 -2 -2'},\n",
       " {'label': 'i', 'multilabel': [0, 1], 'word_str': '-1 -2 -1 -1 -1'},\n",
       " {'label': 'i', 'multilabel': [0, 1], 'word_str': '-2 -2 -2 -1 -2'},\n",
       " {'label': 'i', 'multilabel': [0, 1], 'word_str': '-1 -2 1 1 1'},\n",
       " {'label': 'i', 'multilabel': [0, 1], 'word_str': '-2 -1 -1 2 -1'},\n",
       " {'label': 'i', 'multilabel': [0, 1], 'word_str': '1 -2 1 1 1'},\n",
       " {'label': 'i', 'multilabel': [0, 1], 'word_str': '2 1 -2 -1 -2'},\n",
       " {'label': 'i', 'multilabel': [0, 1], 'word_str': '2 -1 -1 2 1'},\n",
       " {'label': 'i', 'multilabel': [0, 1], 'word_str': '2 1 1 1 1'},\n",
       " {'label': 'i', 'multilabel': [0, 1], 'word_str': '-2 1 -2 1 2'},\n",
       " {'label': 'i', 'multilabel': [0, 1], 'word_str': '1 2 -1 2 -1'},\n",
       " {'label': 'i', 'multilabel': [0, 1], 'word_str': '1 1 1 1 1'},\n",
       " {'label': 'i', 'multilabel': [0, 1], 'word_str': '-1 -1 -1 2 -1'},\n",
       " {'label': 'i', 'multilabel': [0, 1], 'word_str': '-1 -2 1 1 2'},\n",
       " {'label': 'i', 'multilabel': [0, 1], 'word_str': '1 2 -1 -1 -1'},\n",
       " {'label': 'i', 'multilabel': [0, 1], 'word_str': '1 2 2 1 1'},\n",
       " {'label': 'i', 'multilabel': [0, 1], 'word_str': '2 2 1 1 1'},\n",
       " {'label': 'i', 'multilabel': [0, 1], 'word_str': '-1 -1 -1 -1 2'},\n",
       " {'label': 'i', 'multilabel': [0, 1], 'word_str': '1 -2 -1 2 -1'},\n",
       " {'label': 'i', 'multilabel': [0, 1], 'word_str': '-1 2 -1 2 2'},\n",
       " {'label': 'i', 'multilabel': [0, 1], 'word_str': '2 1 1 1 1'},\n",
       " {'label': 'i', 'multilabel': [0, 1], 'word_str': '-2 -2 -1 -2 -1'},\n",
       " {'label': 'i', 'multilabel': [0, 1], 'word_str': '-1 -1 -1 -2 -1'},\n",
       " {'label': 'i', 'multilabel': [0, 1], 'word_str': '-1 2 -1 -2 1'},\n",
       " {'label': 'i', 'multilabel': [0, 1], 'word_str': '1 1 -2 -1 -2'},\n",
       " {'label': 'i', 'multilabel': [0, 1], 'word_str': '2 2 -1 -2 1'},\n",
       " {'label': 'i', 'multilabel': [0, 1], 'word_str': '-2 -2 -1 -1 -1'},\n",
       " {'label': 'i', 'multilabel': [0, 1], 'word_str': '-2 -2 1 -2 -2'},\n",
       " {'label': 'i', 'multilabel': [0, 1], 'word_str': '1 2 -1 -2 -2'},\n",
       " {'label': 'i', 'multilabel': [0, 1], 'word_str': '1 1 1 -2 -1'},\n",
       " {'label': 'i', 'multilabel': [0, 1], 'word_str': '1 2 -1 -2 1'},\n",
       " {'label': 'i', 'multilabel': [0, 1], 'word_str': '-2 1 2 1 2'},\n",
       " {'label': 'i', 'multilabel': [0, 1], 'word_str': '1 -2 -1 -2 1'},\n",
       " {'label': 'i', 'multilabel': [0, 1], 'word_str': '-2 1 2 2 -1'},\n",
       " {'label': 'i', 'multilabel': [0, 1], 'word_str': '1 1 -2 -1 -1'},\n",
       " {'label': 'i', 'multilabel': [0, 1], 'word_str': '2 1 1 1 -2'},\n",
       " {'label': 'i', 'multilabel': [0, 1], 'word_str': '2 2 1 1 1'},\n",
       " {'label': 'i', 'multilabel': [0, 1], 'word_str': '-2 1 1 -2 1'},\n",
       " {'label': 'i', 'multilabel': [0, 1], 'word_str': '1 -2 -2 1 1'},\n",
       " {'label': 'i', 'multilabel': [0, 1], 'word_str': '1 1 1 -2 -1'},\n",
       " {'label': 'i', 'multilabel': [0, 1], 'word_str': '-1 -1 2 -1 2'},\n",
       " {'label': 'i', 'multilabel': [0, 1], 'word_str': '2 1 1 1 -2'},\n",
       " {'label': 'i', 'multilabel': [0, 1], 'word_str': '2 2 1 1 1'},\n",
       " {'label': 'i', 'multilabel': [0, 1], 'word_str': '-2 1 1 1 -2'},\n",
       " {'label': 'i', 'multilabel': [0, 1], 'word_str': '1 -2 -2 -2 -1'},\n",
       " {'label': 'i', 'multilabel': [0, 1], 'word_str': '1 -2 -2 -1 -1'},\n",
       " {'label': 'i', 'multilabel': [0, 1], 'word_str': '-1 -1 -1 -1 -1'},\n",
       " {'label': 'i', 'multilabel': [0, 1], 'word_str': '-1 2 1 1 1'},\n",
       " {'label': 'i', 'multilabel': [0, 1], 'word_str': '2 -1 2 1 1'},\n",
       " {'label': 'i', 'multilabel': [0, 1], 'word_str': '-1 -1 -1 -1 -1'},\n",
       " {'label': 'i', 'multilabel': [0, 1], 'word_str': '2 -1 -2 1 2'},\n",
       " {'label': 'i', 'multilabel': [0, 1], 'word_str': '2 -1 -2 -1 2'},\n",
       " {'label': 'i', 'multilabel': [0, 1], 'word_str': '-1 -2 1 2 1'},\n",
       " {'label': 'i', 'multilabel': [0, 1], 'word_str': '-2 1 1 -2 -1'},\n",
       " {'label': 'i', 'multilabel': [0, 1], 'word_str': '-2 -1 -1 -1 2'},\n",
       " {'label': 'i', 'multilabel': [0, 1], 'word_str': '1 1 -2 -2 -1'},\n",
       " {'label': 'i', 'multilabel': [0, 1], 'word_str': '1 1 2 1 2'},\n",
       " {'label': 'i', 'multilabel': [0, 1], 'word_str': '1 1 1 1 1'},\n",
       " {'label': 'i', 'multilabel': [0, 1], 'word_str': '-1 -1 2 1 -2'},\n",
       " {'label': 'i', 'multilabel': [0, 1], 'word_str': '1 1 1 1 -2'},\n",
       " {'label': 'i', 'multilabel': [0, 1], 'word_str': '-1 2 2 2 1'},\n",
       " {'label': 'i', 'multilabel': [0, 1], 'word_str': '-1 -2 1 2 2'},\n",
       " {'label': 'i', 'multilabel': [0, 1], 'word_str': '-1 -2 1 -2 -2'},\n",
       " {'label': 'i', 'multilabel': [0, 1], 'word_str': '2 2 1 1 1'},\n",
       " {'label': 'i', 'multilabel': [0, 1], 'word_str': '2 2 2 2 2'},\n",
       " {'label': 'i', 'multilabel': [0, 1], 'word_str': '-1 -2 -2 -1 2'},\n",
       " {'label': 'i', 'multilabel': [0, 1], 'word_str': '2 2 -1 -1 -1'},\n",
       " {'label': 'i', 'multilabel': [0, 1], 'word_str': '1 2 1 -2 1'},\n",
       " {'label': 'i', 'multilabel': [0, 1], 'word_str': '2 2 -1 -2 1'},\n",
       " {'label': 'i', 'multilabel': [0, 1], 'word_str': '2 2 -1 -2 -1'},\n",
       " {'label': 'i', 'multilabel': [0, 1], 'word_str': '-2 -1 -1 -1 -1'},\n",
       " {'label': 'i', 'multilabel': [0, 1], 'word_str': '2 2 2 -1 2'},\n",
       " {'label': 'i', 'multilabel': [0, 1], 'word_str': '-1 -1 -2 -1 -1'},\n",
       " {'label': 'i', 'multilabel': [0, 1], 'word_str': '-1 -2 -1 2 -1'},\n",
       " {'label': 'i', 'multilabel': [0, 1], 'word_str': '-2 1 -2 -2 1'},\n",
       " {'label': 'i', 'multilabel': [0, 1], 'word_str': '-1 2 1 -2 -2'},\n",
       " {'label': 'i', 'multilabel': [0, 1], 'word_str': '2 -1 -1 2 2'},\n",
       " {'label': 'i', 'multilabel': [0, 1], 'word_str': '1 1 1 -2 -1'},\n",
       " {'label': 'i', 'multilabel': [0, 1], 'word_str': '-2 -2 1 1 1'},\n",
       " {'label': 'i', 'multilabel': [0, 1], 'word_str': '-1 -1 2 2 -1'},\n",
       " {'label': 'i', 'multilabel': [0, 1], 'word_str': '1 1 1 -1 -2'},\n",
       " {'label': 'i', 'multilabel': [0, 1], 'word_str': '-2 -1 2 1 1'},\n",
       " {'label': 'i', 'multilabel': [0, 1], 'word_str': '-2 -1 -2 -1 -1'},\n",
       " {'label': 'i', 'multilabel': [0, 1], 'word_str': '2 -1 -1 -1 -2'},\n",
       " {'label': 'i', 'multilabel': [0, 1], 'word_str': '-2 -2 1 1 1'},\n",
       " {'label': 'i', 'multilabel': [0, 1], 'word_str': '-1 -1 -1 1 1'},\n",
       " {'label': 'i', 'multilabel': [0, 1], 'word_str': '1 1 2 -1 -1'},\n",
       " {'label': 'i', 'multilabel': [0, 1], 'word_str': '2 -1 -1 2 -1'},\n",
       " {'label': 'i', 'multilabel': [0, 1], 'word_str': '1 1 -2 1 1'},\n",
       " {'label': 'i', 'multilabel': [0, 1], 'word_str': '-2 -1 2 -1 -2'},\n",
       " {'label': 'i', 'multilabel': [0, 1], 'word_str': '-1 -1 -2 -2 -1'},\n",
       " {'label': 'i', 'multilabel': [0, 1], 'word_str': '1 1 1 1 2'},\n",
       " {'label': 'i', 'multilabel': [0, 1], 'word_str': '1 1 1 1 1'},\n",
       " {'label': 'i', 'multilabel': [0, 1], 'word_str': '-2 1 -2 -2 -2'},\n",
       " {'label': 'i', 'multilabel': [0, 1], 'word_str': '2 1 -2 1 -2'},\n",
       " {'label': 'i', 'multilabel': [0, 1], 'word_str': '-2 -1 -1 -1 -1'},\n",
       " {'label': 'i', 'multilabel': [0, 1], 'word_str': '2 2 -1 2 1'},\n",
       " {'label': 'i', 'multilabel': [0, 1], 'word_str': '2 2 -1 -1 2'},\n",
       " {'label': 'i', 'multilabel': [0, 1], 'word_str': '2 1 2 -1 -1'},\n",
       " {'label': 'i', 'multilabel': [0, 1], 'word_str': '-1 -1 2 1 -2'},\n",
       " {'label': 'i', 'multilabel': [0, 1], 'word_str': '1 1 -2 -2 -1'},\n",
       " {'label': 'i', 'multilabel': [0, 1], 'word_str': '-1 2 2 2 -1'},\n",
       " {'label': 'i', 'multilabel': [0, 1], 'word_str': '-2 -1 -2 1 2'},\n",
       " {'label': 'i', 'multilabel': [0, 1], 'word_str': '-2 -1 -2 1 1'},\n",
       " {'label': 'i', 'multilabel': [0, 1], 'word_str': '2 2 -1 2 1'},\n",
       " {'label': 'i', 'multilabel': [0, 1], 'word_str': '1 1 2 1 -2'},\n",
       " {'label': 'i', 'multilabel': [0, 1], 'word_str': '2 -1 -2 1 1'},\n",
       " {'label': 'i', 'multilabel': [0, 1], 'word_str': '1 1 1 -2 -1'},\n",
       " {'label': 'i', 'multilabel': [0, 1], 'word_str': '-2 -1 -2 -1 2'},\n",
       " {'label': 'i', 'multilabel': [0, 1], 'word_str': '2 1 -2 -2 -1'},\n",
       " {'label': 'i', 'multilabel': [0, 1], 'word_str': '-2 1 -2 1 -2'},\n",
       " {'label': 'i', 'multilabel': [0, 1], 'word_str': '1 -2 -2 1 -2'},\n",
       " {'label': 'i', 'multilabel': [0, 1], 'word_str': '-1 -1 -1 2 -1'},\n",
       " {'label': 'i', 'multilabel': [0, 1], 'word_str': '-2 -1 -2 1 1'},\n",
       " {'label': 'i', 'multilabel': [0, 1], 'word_str': '-2 1 1 1 1'},\n",
       " {'label': 'i', 'multilabel': [0, 1], 'word_str': '-1 2 -1 -2 -1'},\n",
       " {'label': 'i', 'multilabel': [0, 1], 'word_str': '-1 -2 -1 -2 -1'},\n",
       " {'label': 'i', 'multilabel': [0, 1], 'word_str': '2 1 -2 1 2'},\n",
       " {'label': 'i', 'multilabel': [0, 1], 'word_str': '-2 -2 1 1 -2'},\n",
       " {'label': 'i', 'multilabel': [0, 1], 'word_str': '2 1 1 1 -2'},\n",
       " {'label': 'i', 'multilabel': [0, 1], 'word_str': '2 -1 2 1 -2'},\n",
       " {'label': 'i', 'multilabel': [0, 1], 'word_str': '1 1 -2 1 2'},\n",
       " {'label': 'i', 'multilabel': [0, 1], 'word_str': '1 2 1 2 2'},\n",
       " {'label': 'i', 'multilabel': [0, 1], 'word_str': '1 1 1 1 1'},\n",
       " {'label': 'i', 'multilabel': [0, 1], 'word_str': '1 1 1 -2 1'},\n",
       " {'label': 'i', 'multilabel': [0, 1], 'word_str': '1 -2 1 1 -2'},\n",
       " {'label': 'i', 'multilabel': [0, 1], 'word_str': '1 2 1 1 1'},\n",
       " {'label': 'i', 'multilabel': [0, 1], 'word_str': '-1 -2 -1 2 1'},\n",
       " {'label': 'i', 'multilabel': [0, 1], 'word_str': '-1 2 1 1 -2'},\n",
       " {'label': 'i', 'multilabel': [0, 1], 'word_str': '-1 2 2 -1 2'},\n",
       " {'label': 'i', 'multilabel': [0, 1], 'word_str': '-1 2 2 1 -2'},\n",
       " {'label': 'i', 'multilabel': [0, 1], 'word_str': '-1 2 -1 -2 1'},\n",
       " {'label': 'i', 'multilabel': [0, 1], 'word_str': '2 1 -2 -1 2'},\n",
       " {'label': 'i', 'multilabel': [0, 1], 'word_str': '1 1 1 1 1'},\n",
       " {'label': 'i', 'multilabel': [0, 1], 'word_str': '2 2 -1 -1 -1'},\n",
       " {'label': 'i', 'multilabel': [0, 1], 'word_str': '2 -1 -1 -1 -2'},\n",
       " {'label': 'i', 'multilabel': [0, 1], 'word_str': '-1 -2 1 1 2'},\n",
       " {'label': 'i', 'multilabel': [0, 1], 'word_str': '2 1 -2 -1 2'},\n",
       " {'label': 'i', 'multilabel': [0, 1], 'word_str': '-1 -1 2 -1 -1'},\n",
       " {'label': 'i', 'multilabel': [0, 1], 'word_str': '2 -1 -2 1 1'},\n",
       " {'label': 'i', 'multilabel': [0, 1], 'word_str': '2 -1 -1 -2 -1'},\n",
       " {'label': 'i', 'multilabel': [0, 1], 'word_str': '-1 -2 -1 -1 -1'},\n",
       " {'label': 'i', 'multilabel': [0, 1], 'word_str': '2 1 -2 -1 -1'},\n",
       " {'label': 'i', 'multilabel': [0, 1], 'word_str': '2 -1 -1 -1 -1'},\n",
       " {'label': 'i', 'multilabel': [0, 1], 'word_str': '-1 2 1 1 1'},\n",
       " {'label': 'i', 'multilabel': [0, 1], 'word_str': '-2 -2 1 -2 -1'},\n",
       " {'label': 'i', 'multilabel': [0, 1], 'word_str': '2 1 2 -1 -2'},\n",
       " {'label': 'i', 'multilabel': [0, 1], 'word_str': '-2 1 -2 -1 2'},\n",
       " {'label': 'i', 'multilabel': [0, 1], 'word_str': '2 -1 2 1 1'},\n",
       " {'label': 'i', 'multilabel': [0, 1], 'word_str': '-2 1 2 -1 2'},\n",
       " {'label': 'i', 'multilabel': [0, 1], 'word_str': '-1 -2 1'},\n",
       " {'label': 'i', 'multilabel': [0, 1], 'word_str': '1 2 -1 -1 -1'},\n",
       " {'label': 'i', 'multilabel': [0, 1], 'word_str': '-1 -2 -1 2 2'},\n",
       " {'label': 'i', 'multilabel': [0, 1], 'word_str': '-2 -1 -2 -2 -1'},\n",
       " {'label': 'i', 'multilabel': [0, 1], 'word_str': '2 -1 -2 1 -2'},\n",
       " {'label': 'i', 'multilabel': [0, 1], 'word_str': '-1 -1 -1 -1 -1'},\n",
       " {'label': 'i', 'multilabel': [0, 1], 'word_str': '2 -1 -1 -1 -1'},\n",
       " {'label': 'i', 'multilabel': [0, 1], 'word_str': '1 2 -1 -2 -2'},\n",
       " {'label': 'i', 'multilabel': [0, 1], 'word_str': '-1 -1 -1 -2 -2'},\n",
       " {'label': 'i', 'multilabel': [0, 1], 'word_str': '-2 -2 1 -2 -1'},\n",
       " {'label': 'i', 'multilabel': [0, 1], 'word_str': '2 1 2 -1 -1'},\n",
       " {'label': 'i', 'multilabel': [0, 1], 'word_str': '1 1 2 2 -1'},\n",
       " {'label': 'i', 'multilabel': [0, 1], 'word_str': '2 -1 -1 -2 -1'},\n",
       " {'label': 'i', 'multilabel': [0, 1], 'word_str': '-1 -1 -2 -1 -2'},\n",
       " {'label': 'i', 'multilabel': [0, 1], 'word_str': '2 2 2 -1 -1'},\n",
       " {'label': 'i', 'multilabel': [0, 1], 'word_str': '-2 1 2 -1 2'},\n",
       " {'label': 'i', 'multilabel': [0, 1], 'word_str': '1 -2 -2 -1 2'},\n",
       " {'label': 'i', 'multilabel': [0, 1], 'word_str': '1 -2 -1 2 2'},\n",
       " {'label': 'i', 'multilabel': [0, 1], 'word_str': '-2 1 2 1 2'},\n",
       " {'label': 'i', 'multilabel': [0, 1], 'word_str': '1 1 1 1 1'},\n",
       " {'label': 'i', 'multilabel': [0, 1], 'word_str': '1 1 1 1 1'},\n",
       " {'label': 'i', 'multilabel': [0, 1], 'word_str': '-2 -2 1 1 -2'},\n",
       " {'label': 'i', 'multilabel': [0, 1], 'word_str': '1 1 1 1 1'},\n",
       " {'label': 'i', 'multilabel': [0, 1], 'word_str': '-1 -2 1 2 -1'},\n",
       " {'label': 'i', 'multilabel': [0, 1], 'word_str': '-2 -1 -2 1 1'},\n",
       " {'label': 'i', 'multilabel': [0, 1], 'word_str': '-2 1 2 1 2'},\n",
       " {'label': 'i', 'multilabel': [0, 1], 'word_str': '1 1 2 -1 2'},\n",
       " {'label': 'i', 'multilabel': [0, 1], 'word_str': '-2 -2 -1 -2 -1'},\n",
       " {'label': 'i', 'multilabel': [0, 1], 'word_str': '1 1 -2 1 -2'},\n",
       " {'label': 'i', 'multilabel': [0, 1], 'word_str': '1 -2 -1 -1 -1'},\n",
       " {'label': 'i', 'multilabel': [0, 1], 'word_str': '-2 -2 -2 -2 1'},\n",
       " {'label': 'i', 'multilabel': [0, 1], 'word_str': '-1 -1 -1 -2 -2'},\n",
       " {'label': 'i', 'multilabel': [0, 1], 'word_str': '-2 1 2 1 2'},\n",
       " {'label': 'i', 'multilabel': [0, 1], 'word_str': '-1 -2 1 2 -2'},\n",
       " {'label': 'i', 'multilabel': [0, 1], 'word_str': '1 2 2 1 -2'},\n",
       " {'label': 'i', 'multilabel': [0, 1], 'word_str': '-1 2 2 -1 -1'},\n",
       " {'label': 'i', 'multilabel': [0, 1], 'word_str': '-1 -2 -1 2 1'},\n",
       " {'label': 'i', 'multilabel': [0, 1], 'word_str': '1 -2 -2 1 2'},\n",
       " {'label': 'i', 'multilabel': [0, 1], 'word_str': '-2 1 1 -2 -1'},\n",
       " {'label': 'i', 'multilabel': [0, 1], 'word_str': '-2 -2 -1 2 1'},\n",
       " {'label': 'i', 'multilabel': [0, 1], 'word_str': '2 2 1 1 2'},\n",
       " {'label': 'i', 'multilabel': [0, 1], 'word_str': '-2 1 2 2 -1'},\n",
       " {'label': 'i', 'multilabel': [0, 1], 'word_str': '2 -1 -2 -1 2'},\n",
       " {'label': 'i', 'multilabel': [0, 1], 'word_str': '2 -1 -2 -1 2'},\n",
       " {'label': 'i', 'multilabel': [0, 1], 'word_str': '-2 -1 2 1 -2'},\n",
       " {'label': 'i', 'multilabel': [0, 1], 'word_str': '2 1 1 1 1'},\n",
       " {'label': 'i', 'multilabel': [0, 1], 'word_str': '-1 2 1 1 1'},\n",
       " {'label': 'i', 'multilabel': [0, 1], 'word_str': '2 -1 -1 -2 -1'},\n",
       " {'label': 'i', 'multilabel': [0, 1], 'word_str': '1 2 1 1 2'},\n",
       " {'label': 'i', 'multilabel': [0, 1], 'word_str': '2 1 2 -1 -2'},\n",
       " {'label': 'i', 'multilabel': [0, 1], 'word_str': '2 -1 -1 -1 -2'},\n",
       " {'label': 'i', 'multilabel': [0, 1], 'word_str': '1 1 1 -1 2'},\n",
       " {'label': 'i', 'multilabel': [0, 1], 'word_str': '-2 -1 -2 -1 2'},\n",
       " {'label': 'i', 'multilabel': [0, 1], 'word_str': '-1 -1 -1 -1 2'},\n",
       " {'label': 'i', 'multilabel': [0, 1], 'word_str': '-2 -2 1 1 1'},\n",
       " {'label': 'i', 'multilabel': [0, 1], 'word_str': '-1 -1 -1 -2 -2'},\n",
       " {'label': 'i', 'multilabel': [0, 1], 'word_str': '-2 -1 2 2 -1'},\n",
       " {'label': 'i', 'multilabel': [0, 1], 'word_str': '1 1 1 1 2'},\n",
       " {'label': 'i', 'multilabel': [0, 1], 'word_str': '-1 -1 -1 2 -1'},\n",
       " {'label': 'i', 'multilabel': [0, 1], 'word_str': '2 1 2 -1 -2'},\n",
       " {'label': 'i', 'multilabel': [0, 1], 'word_str': '-1 -1 -1 2 1'},\n",
       " {'label': 'i', 'multilabel': [0, 1], 'word_str': '-1 -1 -1 -1 2'},\n",
       " {'label': 'i', 'multilabel': [0, 1], 'word_str': '1 2 -1 2 -1'},\n",
       " {'label': 'i', 'multilabel': [0, 1], 'word_str': '-2 1 1 1 1'},\n",
       " {'label': 'i', 'multilabel': [0, 1], 'word_str': '1 1 1 1 1'},\n",
       " {'label': 'i', 'multilabel': [0, 1], 'word_str': '-2 -1 -1 -1 -1'},\n",
       " {'label': 'i', 'multilabel': [0, 1], 'word_str': '-1 -2 1 2 -1'},\n",
       " {'label': 'i', 'multilabel': [0, 1], 'word_str': '2 1 -2 -1 -1'},\n",
       " {'label': 'i', 'multilabel': [0, 1], 'word_str': '-1 -1 -1 2 -1'},\n",
       " {'label': 'i', 'multilabel': [0, 1], 'word_str': '1 1 1 -2 -1'},\n",
       " {'label': 'i', 'multilabel': [0, 1], 'word_str': '2 1 -2 -1 -1'},\n",
       " {'label': 'i', 'multilabel': [0, 1], 'word_str': '-1 -2 1 2 -1'},\n",
       " {'label': 'i', 'multilabel': [0, 1], 'word_str': '1 2 2 -1 2'},\n",
       " {'label': 'i', 'multilabel': [0, 1], 'word_str': '-1 -1 -1 -1 -1'},\n",
       " {'label': 'i', 'multilabel': [0, 1], 'word_str': '-2 -2 -1 -1 -2'},\n",
       " {'label': 'i', 'multilabel': [0, 1], 'word_str': '1 2 -1 2 -1'},\n",
       " {'label': 'i', 'multilabel': [0, 1], 'word_str': '-2 1 1 1 1'},\n",
       " {'label': 'i', 'multilabel': [0, 1], 'word_str': '2 1 2 -1 -2'},\n",
       " {'label': 'i', 'multilabel': [0, 1], 'word_str': '1 -2 -1 2 -1'},\n",
       " {'label': 'i', 'multilabel': [0, 1], 'word_str': '-2 1 -2 1 2'},\n",
       " {'label': 'i', 'multilabel': [0, 1], 'word_str': '2 1 2 1 1'},\n",
       " {'label': 'i', 'multilabel': [0, 1], 'word_str': '2 2 1 -2 -1'},\n",
       " {'label': 'i', 'multilabel': [0, 1], 'word_str': '1 2 2 1 2'},\n",
       " {'label': 'i', 'multilabel': [0, 1], 'word_str': '-1 -1 -2 -1 -2'},\n",
       " {'label': 'i', 'multilabel': [0, 1], 'word_str': '-1 -2 -1 2 2'},\n",
       " {'label': 'i', 'multilabel': [0, 1], 'word_str': '-1 -1 -1 -1 2'},\n",
       " {'label': 'i', 'multilabel': [0, 1], 'word_str': '1 1 2 1 1'},\n",
       " {'label': 'i', 'multilabel': [0, 1], 'word_str': '-1 -1 -2 -1 2'},\n",
       " {'label': 'i', 'multilabel': [0, 1], 'word_str': '2 2 2 1 -2'},\n",
       " {'label': 'i', 'multilabel': [0, 1], 'word_str': '2 2 2 -1 -1'},\n",
       " {'label': 'i', 'multilabel': [0, 1], 'word_str': '1 -2 -1 2 -1'},\n",
       " {'label': 'i', 'multilabel': [0, 1], 'word_str': '1 2 1 1 -2'},\n",
       " {'label': 'i', 'multilabel': [0, 1], 'word_str': '-2 -2 -2 -1 -1'},\n",
       " {'label': 'i', 'multilabel': [0, 1], 'word_str': '1 1 1 1 2'},\n",
       " {'label': 'i', 'multilabel': [0, 1], 'word_str': '1 1 -2 -2 1'},\n",
       " {'label': 'i', 'multilabel': [0, 1], 'word_str': '-1 -2 -1 2 2'},\n",
       " {'label': 'i', 'multilabel': [0, 1], 'word_str': '2 1 -2 -2 -1'},\n",
       " {'label': 'i', 'multilabel': [0, 1], 'word_str': '1 -2 -1 2 -1'},\n",
       " {'label': 'i', 'multilabel': [0, 1], 'word_str': '-2 -1 -1 -1 -1'},\n",
       " {'label': 'i', 'multilabel': [0, 1], 'word_str': '1 -2 -1 -2 -2'},\n",
       " {'label': 'i', 'multilabel': [0, 1], 'word_str': '1 -2 1 1 1'},\n",
       " {'label': 'i', 'multilabel': [0, 1], 'word_str': '-1 2 1 -2 -1'},\n",
       " {'label': 'i', 'multilabel': [0, 1], 'word_str': '1 2 1 1 1'},\n",
       " {'label': 'i', 'multilabel': [0, 1], 'word_str': '-1 2 2 2 1'},\n",
       " {'label': 'i', 'multilabel': [0, 1], 'word_str': '2 2 2 1 2'},\n",
       " {'label': 'i', 'multilabel': [0, 1], 'word_str': '-2 -2 -1 -2 -2'},\n",
       " {'label': 'i', 'multilabel': [0, 1], 'word_str': '-1 -2 1 1 2'},\n",
       " {'label': 'i', 'multilabel': [0, 1], 'word_str': '1 -2 -1 2 -1'},\n",
       " {'label': 'i', 'multilabel': [0, 1], 'word_str': '1 1 2 -1 -1'},\n",
       " {'label': 'i', 'multilabel': [0, 1], 'word_str': '-2 -1 2 1 -2'},\n",
       " {'label': 'i', 'multilabel': [0, 1], 'word_str': '-2 1 1 -2 -1'},\n",
       " {'label': 'i', 'multilabel': [0, 1], 'word_str': '-2 -1 2 1 -2'},\n",
       " {'label': 'i', 'multilabel': [0, 1], 'word_str': '-2 1 -2 -1 -2'},\n",
       " {'label': 'i', 'multilabel': [0, 1], 'word_str': '-2 1 1 1 1'},\n",
       " {'label': 'i', 'multilabel': [0, 1], 'word_str': '-1 -2 -2 -1 2'},\n",
       " {'label': 'i', 'multilabel': [0, 1], 'word_str': '1 2 -1 -2 -1'},\n",
       " {'label': 'i', 'multilabel': [0, 1], 'word_str': '1 1 2 1 1'},\n",
       " {'label': 'i', 'multilabel': [0, 1], 'word_str': '-1 -2 -2 -1 -2'},\n",
       " {'label': 'i', 'multilabel': [0, 1], 'word_str': '-2 1 2 -1 -2'},\n",
       " {'label': 'i', 'multilabel': [0, 1], 'word_str': '-1 -1 -1 2 -1'},\n",
       " {'label': 'i', 'multilabel': [0, 1], 'word_str': '1 -2 -1 -2 -1'},\n",
       " {'label': 'i', 'multilabel': [0, 1], 'word_str': '2 1 -2 1 -2'},\n",
       " {'label': 'i', 'multilabel': [0, 1], 'word_str': '-2 -1 -1 -1 -1'},\n",
       " {'label': 'i', 'multilabel': [0, 1], 'word_str': '-1 -2 -1 -2 -1'},\n",
       " {'label': 'i', 'multilabel': [0, 1], 'word_str': '2 1 2 -1 -2'},\n",
       " {'label': 'i', 'multilabel': [0, 1], 'word_str': '-2 1 2 -1 -1'},\n",
       " {'label': 'i', 'multilabel': [0, 1], 'word_str': '1 1 2 -1 -2'},\n",
       " {'label': 'i', 'multilabel': [0, 1], 'word_str': '-1 -1 -2 1 1'},\n",
       " {'label': 'i', 'multilabel': [0, 1], 'word_str': '2 2 -1 -2 1'},\n",
       " {'label': 'i', 'multilabel': [0, 1], 'word_str': '1 -2 1 -2 -1'},\n",
       " {'label': 'i', 'multilabel': [0, 1], 'word_str': '1 1 1 -2 1'},\n",
       " {'label': 'i', 'multilabel': [0, 1], 'word_str': '1 -2 -1 -2 -1'},\n",
       " {'label': 'i', 'multilabel': [0, 1], 'word_str': '-1 -1 -1 -2 1'},\n",
       " {'label': 'i', 'multilabel': [0, 1], 'word_str': '1 1 2 -1 2'},\n",
       " {'label': 'i', 'multilabel': [0, 1], 'word_str': '1 -2 -1 -2 -2'},\n",
       " {'label': 'i', 'multilabel': [0, 1], 'word_str': '-1 -2 1 -2 1'},\n",
       " {'label': 'i', 'multilabel': [0, 1], 'word_str': '-2 1 -2 -1 -2'},\n",
       " {'label': 'i', 'multilabel': [0, 1], 'word_str': '-2 1 -2 -1 2'},\n",
       " {'label': 'i', 'multilabel': [0, 1], 'word_str': '2 1 -2 -1 -1'},\n",
       " {'label': 'i', 'multilabel': [0, 1], 'word_str': '-2 -1 -1 2 -1'},\n",
       " {'label': 'i', 'multilabel': [0, 1], 'word_str': '-1 -2 -1 -1 -1'},\n",
       " {'label': 'i', 'multilabel': [0, 1], 'word_str': '-1 -2 1 1 2'},\n",
       " {'label': 'i', 'multilabel': [0, 1], 'word_str': '-1 -2 1 2 -1'},\n",
       " {'label': 'i', 'multilabel': [0, 1], 'word_str': '-1 -2 1 1 1'},\n",
       " {'label': 'i', 'multilabel': [0, 1], 'word_str': '2 1 -2 -2 -2'},\n",
       " {'label': 'i', 'multilabel': [0, 1], 'word_str': '1 2 1 -2 1'},\n",
       " {'label': 'i', 'multilabel': [0, 1], 'word_str': '2 2 -1 -2 1'},\n",
       " {'label': 'i', 'multilabel': [0, 1], 'word_str': '1 1 -2 -1 2'},\n",
       " {'label': 'i', 'multilabel': [0, 1], 'word_str': '-1 -2 1 2 -1'},\n",
       " {'label': 'i', 'multilabel': [0, 1], 'word_str': '2 1 1 1 2'},\n",
       " {'label': 'i', 'multilabel': [0, 1], 'word_str': '-2 -1 2 1 1'},\n",
       " {'label': 'i', 'multilabel': [0, 1], 'word_str': '1 1 1 1 1'},\n",
       " {'label': 'i', 'multilabel': [0, 1], 'word_str': '-1 2 1 1 1'},\n",
       " {'label': 'i', 'multilabel': [0, 1], 'word_str': '-2 -2 -1 -1 -1'},\n",
       " {'label': 'i', 'multilabel': [0, 1], 'word_str': '-2 -1 -1 -2 1'},\n",
       " {'label': 'i', 'multilabel': [0, 1], 'word_str': '-2 -2 1 -2 -1'},\n",
       " {'label': 'i', 'multilabel': [0, 1], 'word_str': '-1 2 1 2 2'},\n",
       " {'label': 'i', 'multilabel': [0, 1], 'word_str': '2 1 2 -1 -2'},\n",
       " {'label': 'i', 'multilabel': [0, 1], 'word_str': '1 1 1 -2 1'},\n",
       " {'label': 'i', 'multilabel': [0, 1], 'word_str': '-1 2 1 1 2'},\n",
       " {'label': 'i', 'multilabel': [0, 1], 'word_str': '-2 1 1 1 2'},\n",
       " {'label': 'i', 'multilabel': [0, 1], 'word_str': '-2 -2 -1 2 1'},\n",
       " {'label': 'i', 'multilabel': [0, 1], 'word_str': '-1 2 -1 -1 -1'},\n",
       " {'label': 'i', 'multilabel': [0, 1], 'word_str': '2 2 -1 2 2'},\n",
       " {'label': 'i', 'multilabel': [0, 1], 'word_str': '-2 1 1 -2 1'},\n",
       " {'label': 'i', 'multilabel': [0, 1], 'word_str': '2 2 1 1 2'},\n",
       " {'label': 'i', 'multilabel': [0, 1], 'word_str': '-2 -2 -1 -1 -1'},\n",
       " {'label': 'i', 'multilabel': [0, 1], 'word_str': '2 -1 -1 -1 -2'},\n",
       " {'label': 'i', 'multilabel': [0, 1], 'word_str': '-1 2 1 1 1'},\n",
       " {'label': 'i', 'multilabel': [0, 1], 'word_str': '-1 2 2 1 -2'},\n",
       " {'label': 'i', 'multilabel': [0, 1], 'word_str': '1 1 1 -2 -1'},\n",
       " {'label': 'i', 'multilabel': [0, 1], 'word_str': '-1 -2 -2 1 2'},\n",
       " {'label': 'i', 'multilabel': [0, 1], 'word_str': '-2 -2 -2 1 1'},\n",
       " {'label': 'i', 'multilabel': [0, 1], 'word_str': '1 -2 1 2 1'},\n",
       " {'label': 'i', 'multilabel': [0, 1], 'word_str': '1 1 1 -2 1'},\n",
       " {'label': 'i', 'multilabel': [0, 1], 'word_str': '-1 2 1 2 -1'},\n",
       " {'label': 'i', 'multilabel': [0, 1], 'word_str': '2 1 1 1 2'},\n",
       " {'label': 'i', 'multilabel': [0, 1], 'word_str': '2 -1 2 1 -2'},\n",
       " {'label': 'i', 'multilabel': [0, 1], 'word_str': '-1 -1 -1 -1 -1'},\n",
       " {'label': 'i', 'multilabel': [0, 1], 'word_str': '2 2 -1 -1 -1'},\n",
       " {'label': 'i', 'multilabel': [0, 1], 'word_str': '2 -1 -1 2 -1'},\n",
       " {'label': 'i', 'multilabel': [0, 1], 'word_str': '2 1 -2 -2 -2'},\n",
       " {'label': 'i', 'multilabel': [0, 1], 'word_str': '2 2 1 1 1'},\n",
       " {'label': 'i', 'multilabel': [0, 1], 'word_str': '-2 -2 -1 -2 -2'},\n",
       " {'label': 'i', 'multilabel': [0, 1], 'word_str': '-1 -2 -2 1 2'},\n",
       " {'label': 'i', 'multilabel': [0, 1], 'word_str': '-1 2 -1 2 1'},\n",
       " {'label': 'i', 'multilabel': [0, 1], 'word_str': '2 -1 -2 -1 -1'},\n",
       " {'label': 'i', 'multilabel': [0, 1], 'word_str': '2 2 -1 -1 -1'},\n",
       " {'label': 'i', 'multilabel': [0, 1], 'word_str': '-1 -1 2 1 1'},\n",
       " {'label': 'i', 'multilabel': [0, 1], 'word_str': '1 1 2 -1 -2'},\n",
       " {'label': 'i', 'multilabel': [0, 1], 'word_str': '2 1 2 -1 -1'},\n",
       " {'label': 'i', 'multilabel': [0, 1], 'word_str': '1 2 -1 -2 -1'},\n",
       " {'label': 'i', 'multilabel': [0, 1], 'word_str': '1 1 1 1 1'},\n",
       " {'label': 'i', 'multilabel': [0, 1], 'word_str': '-2 1 1 2 2'},\n",
       " {'label': 'i', 'multilabel': [0, 1], 'word_str': '1 2 1 -2 -1'},\n",
       " {'label': 'i', 'multilabel': [0, 1], 'word_str': '1 2 2 -1 -1'},\n",
       " {'label': 'i', 'multilabel': [0, 1], 'word_str': '1 2 1 2 -1'},\n",
       " {'label': 'i', 'multilabel': [0, 1], 'word_str': '-2 1 2 -1 -2'},\n",
       " {'label': 'i', 'multilabel': [0, 1], 'word_str': '-2 -1 -1 -1 2'},\n",
       " {'label': 'i', 'multilabel': [0, 1], 'word_str': '1 -2 1 -2 -2'},\n",
       " {'label': 'i', 'multilabel': [0, 1], 'word_str': '-1 -1 -1 -2 -2'},\n",
       " {'label': 'i', 'multilabel': [0, 1], 'word_str': '-1 -2 -1 2 -1'},\n",
       " {'label': 'i', 'multilabel': [0, 1], 'word_str': '2 -1 -1 -1 -1'},\n",
       " {'label': 'i', 'multilabel': [0, 1], 'word_str': '-2 1 2 -1 -1'},\n",
       " {'label': 'i', 'multilabel': [0, 1], 'word_str': '2 -1 2 1 1'},\n",
       " {'label': 'i', 'multilabel': [0, 1], 'word_str': '2 -1 2 -1 -1'},\n",
       " {'label': 'i', 'multilabel': [0, 1], 'word_str': '-1 -1 2 1 -2'},\n",
       " {'label': 'i', 'multilabel': [0, 1], 'word_str': '2 -1 -2 1 1'},\n",
       " {'label': 'i', 'multilabel': [0, 1], 'word_str': '-2 -2 -1 -2 -2'},\n",
       " {'label': 'i', 'multilabel': [0, 1], 'word_str': '-1 2 1 1 -2'},\n",
       " {'label': 'i', 'multilabel': [0, 1], 'word_str': '2 1 -2 -1 -2'},\n",
       " {'label': 'i', 'multilabel': [0, 1], 'word_str': '1 -2 1 -2 -1'},\n",
       " {'label': 'i', 'multilabel': [0, 1], 'word_str': '-2 -1 -1 2 1'},\n",
       " {'label': 'i', 'multilabel': [0, 1], 'word_str': '-1 -2 -2 1 1'},\n",
       " {'label': 'i', 'multilabel': [0, 1], 'word_str': '-1 -1 -2 1 -2'},\n",
       " {'label': 'i', 'multilabel': [0, 1], 'word_str': '-2 1 2 -1 -1'},\n",
       " {'label': 'i', 'multilabel': [0, 1], 'word_str': '1 -2 -2 1 1'},\n",
       " {'label': 'i', 'multilabel': [0, 1], 'word_str': '-2 1 -2 -1 -1'},\n",
       " {'label': 'i', 'multilabel': [0, 1], 'word_str': '1 -2 -1 2 1'},\n",
       " {'label': 'i', 'multilabel': [0, 1], 'word_str': '1 -2 -2 1 1'},\n",
       " {'label': 'i', 'multilabel': [0, 1], 'word_str': '2 -1 -1 -1 -1'},\n",
       " {'label': 'i', 'multilabel': [0, 1], 'word_str': '-1 -1 -1 2 -1'},\n",
       " {'label': 'i', 'multilabel': [0, 1], 'word_str': '1 -2 1 1 1'},\n",
       " {'label': 'i', 'multilabel': [0, 1], 'word_str': '-2 1 1 1 1'},\n",
       " {'label': 'i', 'multilabel': [0, 1], 'word_str': '2 1 2 -1 -2'},\n",
       " {'label': 'i', 'multilabel': [0, 1], 'word_str': '-2 -1 -2 -1 -1'},\n",
       " {'label': 'i', 'multilabel': [0, 1], 'word_str': '-1 2 2 -1 -1'},\n",
       " {'label': 'i', 'multilabel': [0, 1], 'word_str': '-2 -2 -1 2 1'},\n",
       " {'label': 'i', 'multilabel': [0, 1], 'word_str': '-1 -2 1 2 -1'},\n",
       " {'label': 'i', 'multilabel': [0, 1], 'word_str': '-2 -1 -2 -2 -1'},\n",
       " {'label': 'i', 'multilabel': [0, 1], 'word_str': '1 -2 1 -2 1'},\n",
       " {'label': 'i', 'multilabel': [0, 1], 'word_str': '2 1 -2 -2 1'},\n",
       " {'label': 'i', 'multilabel': [0, 1], 'word_str': '-1 -2 -1 -1 -1'},\n",
       " {'label': 'i', 'multilabel': [0, 1], 'word_str': '-2 1 -2 -1 -1'},\n",
       " {'label': 'i', 'multilabel': [0, 1], 'word_str': '-1 -1 2 2 -1'},\n",
       " {'label': 'i', 'multilabel': [0, 1], 'word_str': '-2 -1 2 -1 -1'},\n",
       " {'label': 'i', 'multilabel': [0, 1], 'word_str': '-1 -2 1 2 -1'},\n",
       " {'label': 'i', 'multilabel': [0, 1], 'word_str': '1 2 -1 -1 -1'},\n",
       " {'label': 'i', 'multilabel': [0, 1], 'word_str': '-1 -1 -1 -2 1'},\n",
       " {'label': 'i', 'multilabel': [0, 1], 'word_str': '-1 -1 2 2 2'},\n",
       " ...]"
      ]
     },
     "execution_count": 19,
     "metadata": {},
     "output_type": "execute_result"
    }
   ],
   "source": [
    "data"
   ]
  },
  {
   "cell_type": "code",
   "execution_count": 5,
   "metadata": {},
   "outputs": [],
   "source": [
    "from os import environ\n",
    "import torch"
   ]
  },
  {
   "cell_type": "code",
   "execution_count": 6,
   "metadata": {},
   "outputs": [
    {
     "ename": "TypeError",
     "evalue": "invalid dtype object: only floating-point types are supported as the default type",
     "output_type": "error",
     "traceback": [
      "\u001b[0;31m---------------------------------------------------------------------------\u001b[0m",
      "\u001b[0;31mTypeError\u001b[0m                                 Traceback (most recent call last)",
      "Cell \u001b[0;32mIn[6], line 1\u001b[0m\n\u001b[0;32m----> 1\u001b[0m \u001b[43mtorch\u001b[49m\u001b[38;5;241;43m.\u001b[39;49m\u001b[43mset_default_dtype\u001b[49m\u001b[43m(\u001b[49m\u001b[38;5;124;43m'\u001b[39;49m\u001b[38;5;124;43mfloat16\u001b[39;49m\u001b[38;5;124;43m'\u001b[39;49m\u001b[43m)\u001b[49m\n",
      "File \u001b[0;32m/usr/local/lib/python3.10/site-packages/torch/__init__.py:661\u001b[0m, in \u001b[0;36mset_default_dtype\u001b[0;34m(d)\u001b[0m\n\u001b[1;32m    617\u001b[0m \u001b[38;5;28;01mdef\u001b[39;00m \u001b[38;5;21mset_default_dtype\u001b[39m(d):\n\u001b[1;32m    618\u001b[0m \u001b[38;5;250m    \u001b[39m\u001b[38;5;124mr\u001b[39m\u001b[38;5;124;03m\"\"\"\u001b[39;00m\n\u001b[1;32m    619\u001b[0m \n\u001b[1;32m    620\u001b[0m \u001b[38;5;124;03m    Sets the default floating point dtype to :attr:`d`. Supports torch.float32\u001b[39;00m\n\u001b[0;32m   (...)\u001b[0m\n\u001b[1;32m    659\u001b[0m \n\u001b[1;32m    660\u001b[0m \u001b[38;5;124;03m    \"\"\"\u001b[39;00m\n\u001b[0;32m--> 661\u001b[0m     \u001b[43m_C\u001b[49m\u001b[38;5;241;43m.\u001b[39;49m\u001b[43m_set_default_dtype\u001b[49m\u001b[43m(\u001b[49m\u001b[43md\u001b[49m\u001b[43m)\u001b[49m\n",
      "\u001b[0;31mTypeError\u001b[0m: invalid dtype object: only floating-point types are supported as the default type"
     ]
    }
   ],
   "source": [
    "torch.set_default_dtype('float16')"
   ]
  }
 ],
 "metadata": {
  "kernelspec": {
   "display_name": "Python 3",
   "language": "python",
   "name": "python3"
  },
  "language_info": {
   "codemirror_mode": {
    "name": "ipython",
    "version": 3
   },
   "file_extension": ".py",
   "mimetype": "text/x-python",
   "name": "python",
   "nbconvert_exporter": "python",
   "pygments_lexer": "ipython3",
   "version": "3.10.13"
  }
 },
 "nbformat": 4,
 "nbformat_minor": 2
}
